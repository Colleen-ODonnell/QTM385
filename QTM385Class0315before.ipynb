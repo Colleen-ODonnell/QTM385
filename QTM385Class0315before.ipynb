{
 "cells": [
  {
   "cell_type": "markdown",
   "metadata": {},
   "source": [
    "# QTM 385\n",
    "\n",
    "> Class 03/15\n",
    "\n",
    "> Web Scraping 1\n",
    "\n",
    "**Important about this week**: no assignment."
   ]
  },
  {
   "cell_type": "markdown",
   "metadata": {},
   "source": [
    "# Web Scraping\n",
    "\n",
    "Web scraping is a lot of fun. Imagine what you can do if you could download data from multiple page sources from the internet?\n",
    "\n",
    "For example:\n",
    "\n",
    "1. You can scrape all the recipes from a cooking website\n",
    "\n",
    "2. You can scrape the prices of your preferred \n",
    "\n",
    "3. You can find information about prices of products and services that you are interested in consuming.\n",
    "\n",
    "4. You can even scrape the `rate my professor` page to decide which professor you should consider taking classes in the next semester.\n",
    "\n",
    "And many other applications.\n",
    "\n",
    "The web scraping class is going to be divided into two main parts:\n",
    "\n",
    "- Learn HTML and how to crawl a webpage (this class).\n",
    "\n",
    "- Learn how to build automated crawlers for scraping the content you want to learn about (next class).\n",
    "\n",
    "## Web Scraping Pipeline\n",
    "\n",
    "Do webscraping is easy. You have to:\n",
    "\n",
    "1. Know exactly what information you want to extract.\n",
    "\n",
    "2. Have some idea on how to find the sources of these informations (and this can also be part of the webscraping)\n",
    "\n",
    "3. Parse the data and extract what you want.\n",
    "\n",
    "4. Tidy the data parsed and shape if for analysis."
   ]
  },
  {
   "cell_type": "code",
   "execution_count": null,
   "metadata": {},
   "outputs": [],
   "source": [
    "#h1 means header\n",
    "#h2 means smaller header\n",
    "#p is to build a paragraph\n",
    "#<html>\n",
    "#this is a tag\n",
    "#</html>\n",
    "#the most important tags are **a**, **div** and **p**\n",
    "#**a** means you have a hyperlink\n",
    "#<a this shows an a tag>\n",
    "#<div this shows a tag>----a tag has a class and ID\n",
    "#if you only want to extract footer information from page, go to id = footer\n",
    "#"
   ]
  },
  {
   "cell_type": "markdown",
   "metadata": {},
   "source": [
    "## HTML\n",
    "\n",
    "This is a `html` page:\n",
    "\n",
    "```\n",
    "html = \"\"\"\n",
    "<!DOCTYPE html>\n",
    "<html>\n",
    "  <body>\n",
    "\n",
    "    <h1>My First Heading</h1>\n",
    "    <p>My first paragraph.</p>\n",
    "\n",
    "  </body>\n",
    "</html>\n",
    "\"\"\"\n",
    "```\n",
    "\n",
    "And this page shows us: (file:///Users/umbertomignozzetti/Dropbox/Academic/Teaching/2021/QTM385/qtm385/parsing-examples/example1.html) *Note that it will not work in your computer*...\n",
    "\n",
    "The page is comprised of **tags**, that tells our browser what to display at each point.\n",
    "\n",
    "Note that it has a tree-shape format. Consider now this HTML here:\n",
    "\n",
    "```\n",
    "'''\n",
    "<html>\n",
    "  <head>\n",
    "    <title>Learning HTML</title>\n",
    "  </head>\n",
    "  <body>\n",
    "    <p>QTM 385</p>\n",
    "    <p>Professor Umberto</p>\n",
    "  </body>\n",
    "</html>\n",
    "'''\n",
    "```\n",
    "\n",
    "All tags are in the following format:\n",
    "\n",
    "```\n",
    "<tag-name tag-attr=\"att info\">\n",
    "    ...Inside content...\n",
    "</tag-name>\n",
    "```\n",
    "\n",
    "The most important tags are: **a**, **div**, and **p**.\n",
    "\n",
    "Tags can also have an **id** and a **class**. For example:\n",
    "\n",
    "```\n",
    "'''\n",
    "<html>\n",
    "  <head>\n",
    "    <title>Learning HTML</title>\n",
    "  </head>\n",
    "  <body>\n",
    "    <div id = \"infoclass\">\n",
    "      <p>QTM 385</p>\n",
    "      <p>Professor Umberto</p>\n",
    "    </div>\n",
    "  </body>\n",
    "</html>\n",
    "'''\n",
    "```\n",
    "\n",
    "- **id** is always unique\n",
    "\n",
    "- **class** doesn't need to be unique"
   ]
  },
  {
   "cell_type": "markdown",
   "metadata": {},
   "source": [
    "**Exercise**:\n",
    "\n",
    "```\n",
    "<html>\n",
    "  <head>\n",
    "    <title>Website Title</title>\n",
    "    <link rel=\"stylesheet\" type=\"text/css\" href=\"style.css\">\n",
    "  </head>\n",
    "  <body>\n",
    "    <div class=\"class1\" id=\"div1\">\n",
    "      <p class=\"class2\">\n",
    "        Visit <a href=\"http://umbertomig.com/\">Umberto's Website</a>!\n",
    "      </p>\n",
    "    </div>\n",
    "    <div class=\"class1 class3\" id=\"div2\">\n",
    "      Hello World!\n",
    "    </div>\n",
    "  </body>\n",
    "</html>\n",
    "```\n",
    "\n",
    "In the previous HTML, which elements belong to `class1`?"
   ]
  },
  {
   "cell_type": "code",
   "execution_count": 1,
   "metadata": {},
   "outputs": [],
   "source": [
    "#every place that has class1 belongs to class1 regardless of if it has something else\n",
    "#div class = \"1\"\n",
    "#and div class= class 1, class3"
   ]
  },
  {
   "cell_type": "code",
   "execution_count": null,
   "metadata": {},
   "outputs": [],
   "source": [
    "#build a structure of this html exercise\n",
    "#first have HTML, broken down into head and body\n",
    "#Inside head, we have two tags: title and link tags and then closes head\n",
    "#opens body, inside body, we have two tags: div1 and div2 (making up these numbers)\n",
    "#inside div1, have have a paragraph, inside paragraph have a link indicated by a\n",
    "#then closes link, paragraph, div\n",
    "#inside div2, has some text, goes back to body, to html"
   ]
  },
  {
   "cell_type": "markdown",
   "metadata": {},
   "source": [
    "## XPath"
   ]
  },
  {
   "cell_type": "markdown",
   "metadata": {},
   "source": [
    "XPath is a way to navigate into the HTML content. \n",
    "\n",
    "It looks like a folder structure in a computer. For instance, in the HTML:\n",
    "\n",
    "```\n",
    "<html>\n",
    "  <head>\n",
    "    <title>Website Title</title>\n",
    "    <link rel=\"stylesheet\" type=\"text/css\" href=\"style.css\">\n",
    "  </head>\n",
    "  <body>\n",
    "    <div class=\"class1\" id=\"div1\">\n",
    "      <p class=\"class2\">\n",
    "        Visit <a href=\"http://umbertomig.com/\">Umberto's Website</a>!\n",
    "      </p>\n",
    "    </div>\n",
    "    <div class=\"class1 class3\" id=\"div2\">\n",
    "      Hello World!\n",
    "    </div>\n",
    "  </body>\n",
    "</html>\n",
    "```\n",
    "\n",
    "The hello world phrase is in the following div: `'/html/body/div[2]'`\n",
    "\n",
    "And, if we want to select all elements within a webpage, we use the `//`. For example,\n",
    "\n",
    "`//div` matches both divs."
   ]
  },
  {
   "cell_type": "code",
   "execution_count": 2,
   "metadata": {},
   "outputs": [],
   "source": [
    "#similar to how things are organized in a computer folder"
   ]
  },
  {
   "cell_type": "code",
   "execution_count": 3,
   "metadata": {},
   "outputs": [],
   "source": [
    "#if you tell computer to go to /html/body/div[2], what happens?\n",
    "#focusing on second div2\n",
    "#always begin w/ forward slash /html/body/div[2]\n",
    "#use the tags to move along the content\n",
    "#go from html to body to div2\n",
    "#if you just did /div gives you both div's"
   ]
  },
  {
   "cell_type": "code",
   "execution_count": 4,
   "metadata": {},
   "outputs": [],
   "source": [
    "#if we put //p it matches all of the pargaraphs inside of the webpage\n",
    "#//div matches all divs regardless of where it is\n",
    "#if looking at computer folder and want to match anything called qtm385, would use //"
   ]
  },
  {
   "cell_type": "code",
   "execution_count": 13,
   "metadata": {},
   "outputs": [],
   "source": [
    "from scrapy import Selector"
   ]
  },
  {
   "cell_type": "code",
   "execution_count": 14,
   "metadata": {},
   "outputs": [],
   "source": [
    "html = \"\"\"\"\n",
    "<html>\n",
    "  <head>\n",
    "    <title>Website Title</title>\n",
    "    <link rel=\"stylesheet\" type=\"text/css\" href=\"style.css\">\n",
    "  </head>\n",
    "  <body>\n",
    "    <div class=\"class1\" id=\"div1\">\n",
    "      <p class=\"class2\">\n",
    "        Visit <a href=\"http://umbertomig.com/\">Umberto's Website</a>!\n",
    "      </p>\n",
    "    </div>\n",
    "    <div class=\"class1 class3\" id=\"div2\">\n",
    "      Hello World!\n",
    "    </div>\n",
    "  </body>\n",
    "</html>\n",
    "\"\"\"\n",
    "sel = Selector(text = html)"
   ]
  },
  {
   "cell_type": "code",
   "execution_count": 15,
   "metadata": {},
   "outputs": [
    {
     "data": {
      "text/plain": [
       "[<Selector xpath='/html/body/div[2]' data='<div class=\"class1 class3\" id=\"div2\">...'>]"
      ]
     },
     "execution_count": 15,
     "metadata": {},
     "output_type": "execute_result"
    }
   ],
   "source": [
    "sel.xpath('/html/body/div[2]')"
   ]
  },
  {
   "cell_type": "code",
   "execution_count": 16,
   "metadata": {},
   "outputs": [
    {
     "data": {
      "text/plain": [
       "[<Selector xpath='/html/body/div[2]/text()' data='\\n      Hello World!\\n    '>]"
      ]
     },
     "execution_count": 16,
     "metadata": {},
     "output_type": "execute_result"
    }
   ],
   "source": [
    "sel.xpath('/html/body/div[2]/text()') #to select text"
   ]
  },
  {
   "cell_type": "code",
   "execution_count": 17,
   "metadata": {},
   "outputs": [
    {
     "data": {
      "text/plain": [
       "['\\n      Hello World!\\n    ']"
      ]
     },
     "execution_count": 17,
     "metadata": {},
     "output_type": "execute_result"
    }
   ],
   "source": [
    "sel.xpath('/html/body/div[2]/text()').extract() #to actually extract texts"
   ]
  },
  {
   "cell_type": "code",
   "execution_count": 18,
   "metadata": {},
   "outputs": [
    {
     "data": {
      "text/plain": [
       "[<Selector xpath='/html/body/div[1]/p/a' data='<a href=\"http://umbertomig.com/\">Umbe...'>]"
      ]
     },
     "execution_count": 18,
     "metadata": {},
     "output_type": "execute_result"
    }
   ],
   "source": [
    "#can you extract a link from the page?\n",
    "sel.xpath('/html/body/div[1]/p/a')"
   ]
  },
  {
   "cell_type": "code",
   "execution_count": 19,
   "metadata": {},
   "outputs": [
    {
     "data": {
      "text/plain": [
       "['http://umbertomig.com/']"
      ]
     },
     "execution_count": 19,
     "metadata": {},
     "output_type": "execute_result"
    }
   ],
   "source": [
    "#when we want to extract content inside one tag\n",
    "sel.xpath('/html/body/div[1]/p/a/@href').extract() #opens the website from internet"
   ]
  },
  {
   "cell_type": "code",
   "execution_count": null,
   "metadata": {},
   "outputs": [],
   "source": [
    "#inspect element\n",
    "#control copy xpath"
   ]
  },
  {
   "cell_type": "markdown",
   "metadata": {},
   "source": [
    "**Great job!!!**"
   ]
  }
 ],
 "metadata": {
  "kernelspec": {
   "display_name": "Python 3",
   "language": "python",
   "name": "python3"
  },
  "language_info": {
   "codemirror_mode": {
    "name": "ipython",
    "version": 3
   },
   "file_extension": ".py",
   "mimetype": "text/x-python",
   "name": "python",
   "nbconvert_exporter": "python",
   "pygments_lexer": "ipython3",
   "version": "3.7.6"
  }
 },
 "nbformat": 4,
 "nbformat_minor": 4
}
