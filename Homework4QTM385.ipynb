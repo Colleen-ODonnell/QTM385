{
 "cells": [
  {
   "cell_type": "markdown",
   "metadata": {},
   "source": [
    "# QTM 385\n",
    "\n",
    "***\n",
    "\n",
    "## Homework 4\n",
    "\n",
    "Student: [2304589]"
   ]
  },
  {
   "cell_type": "markdown",
   "metadata": {},
   "source": [
    "In this homework, we will create an object called Student, that is useful for a professor to store information about a student."
   ]
  },
  {
   "cell_type": "markdown",
   "metadata": {},
   "source": [
    "\n",
    "***\n",
    "\n",
    "### Question 1\n",
    "\n",
    "Create a class Student, that has:\n",
    "\n",
    "0. Id number (5-digits integer, starting with 1)\n",
    "1. First Name (str)\n",
    "2. Last Name (str)\n",
    "3. Grades (list of floats)\n",
    "4. Credits (list of integers)\n",
    "5. Major (str)\n",
    "\n",
    "Provide a constructor for your class and create one fictitious student."
   ]
  },
  {
   "cell_type": "code",
   "execution_count": 2,
   "metadata": {},
   "outputs": [],
   "source": [
    "# Your answer here\n",
    "class Student:\n",
    "    def __init__(self, id_, fname, lname, grds, cdts, mjr):\n",
    "        self.id = id_\n",
    "        self.firstname = fname\n",
    "        self.lastname = lname\n",
    "        self.grades = grds\n",
    "        self.credits = cdts\n",
    "        self.major = mjr\n",
    "    "
   ]
  },
  {
   "cell_type": "code",
   "execution_count": 4,
   "metadata": {},
   "outputs": [],
   "source": [
    "stu1 = Student(12245, 'Colleen', 'ODonnell', [9.8, 8.7, 7.5, 10.0], [3, 4, 4, 3], 'Economics')"
   ]
  },
  {
   "cell_type": "code",
   "execution_count": 7,
   "metadata": {},
   "outputs": [
    {
     "name": "stdout",
     "output_type": "stream",
     "text": [
      "Economics\n"
     ]
    }
   ],
   "source": [
    "print(stu1.major)"
   ]
  },
  {
   "cell_type": "markdown",
   "metadata": {},
   "source": [
    "\n",
    "***\n",
    "\n",
    "### Question 2\n",
    "\n",
    "Create a method to nicely display the student when we type `print`. It should display, for example:\n",
    "\n",
    "```\n",
    "Student:\n",
    "    Id: 12345\n",
    "    Name: Mig, Umberto\n",
    "    Major: QSS\n",
    "```\n",
    "\n",
    "Create a method that, when a variable storing a student is typed in the console, displays:\n",
    "\n",
    "```\n",
    "Student(Mig, Umberto; 12345)\n",
    "```\n",
    "\n",
    "Provide some testing with a fictitious result of your choice."
   ]
  },
  {
   "cell_type": "code",
   "execution_count": 24,
   "metadata": {},
   "outputs": [],
   "source": [
    "# Your answer here\n",
    "class Student:\n",
    "    def __init__(self, id_, fname, lname, grds, cdts, mjr):\n",
    "        self.id = id_\n",
    "        self.firstname = fname\n",
    "        self.lastname = lname\n",
    "        self.grades = grds\n",
    "        self.credits = cdts\n",
    "        self.major = mjr\n",
    "    def __str__(self):\n",
    "        st_info = \"\"\"\n",
    "        Student: \n",
    "            ID: {id1}\n",
    "            Name: {lname1},{fname1}\n",
    "            Major: {mjr1}\n",
    "            \"\"\".format(id1 = self.id, fname1 = self.firstname, lname1 = self.lastname, mjr1 = self.major) \n",
    "        return st_info\n",
    "    def __repr__(self): \n",
    "        return \"Student({lname1}, {fname1}; {id1})\".format(fname1 = self.firstname, lname1 = self.lastname, id1 = self.id)\n",
    "\n"
   ]
  },
  {
   "cell_type": "code",
   "execution_count": 25,
   "metadata": {},
   "outputs": [],
   "source": [
    "stu2 = Student(12345, 'Umberto', 'Mig', [9.5, 10.0, 10.0, 8.0], [3, 4, 1, 3], 'QSS')"
   ]
  },
  {
   "cell_type": "code",
   "execution_count": 26,
   "metadata": {},
   "outputs": [
    {
     "data": {
      "text/plain": [
       "Student(Mig, Umberto; 12345)"
      ]
     },
     "execution_count": 26,
     "metadata": {},
     "output_type": "execute_result"
    }
   ],
   "source": [
    "stu2"
   ]
  },
  {
   "cell_type": "code",
   "execution_count": 6,
   "metadata": {},
   "outputs": [
    {
     "name": "stdout",
     "output_type": "stream",
     "text": [
      "\n",
      "        Student: \n",
      "            ID: 12345\n",
      "            Name: Mig,Umberto\n",
      "            Major: QSS\n",
      "            \n"
     ]
    }
   ],
   "source": [
    "print(stu2)"
   ]
  },
  {
   "cell_type": "markdown",
   "metadata": {},
   "source": [
    "\n",
    "***\n",
    "\n",
    "### Question 3\n",
    "\n",
    "Implement class methods for:\n",
    "\n",
    "1. Check if the id number is valid (remember: 5 digits, starting with number one)\n",
    "2. Check if the grades list has the same length as the credits list. The idea is that every grade corresponds to a course that gave the student a certain amount of credits.\n",
    "3. Append grade and credit: given a grade, and credits attached to the grade, append both to each respective place.\n",
    "\n",
    "Test your function with a toy student of your choice."
   ]
  },
  {
   "cell_type": "code",
   "execution_count": 1,
   "metadata": {},
   "outputs": [],
   "source": [
    "# Your answer here\n",
    "class Student:\n",
    "    def __init__(self, id_, fname, lname, grds, cdts, mjr):\n",
    "        self.id = id_\n",
    "        self.firstname = fname\n",
    "        self.lastname = lname\n",
    "        self.grades = grds\n",
    "        self.credits = cdts\n",
    "        self.major = mjr\n",
    "    def id_valid(self):\n",
    "        if len(self.id) == 5 and self.id[0] == '1':\n",
    "            print('Valid ID')\n",
    "        else: print('Invalid ID')\n",
    "    def grades_credits(self):\n",
    "        if len(self.grades) == len(self.credits):\n",
    "            print('Grades and Credits Match')\n",
    "        else: print('Grades and Credits Error')\n",
    "    def append_(self, grds, cdts):\n",
    "        self.grades.append(grds)\n",
    "        self.credits.append(cdts)\n"
   ]
  },
  {
   "cell_type": "code",
   "execution_count": 3,
   "metadata": {},
   "outputs": [],
   "source": [
    "stu2 = Student('12345', 'Umberto', 'Mig', [9.5, 10.0, 10.0, 8.0], [3, 4, 1, 3], 'QSS')\n"
   ]
  },
  {
   "cell_type": "code",
   "execution_count": null,
   "metadata": {},
   "outputs": [],
   "source": [
    "stu2.id_valid()"
   ]
  },
  {
   "cell_type": "code",
   "execution_count": 64,
   "metadata": {},
   "outputs": [
    {
     "name": "stdout",
     "output_type": "stream",
     "text": [
      "Grades and Credits Match\n"
     ]
    }
   ],
   "source": [
    "stu2.grades_credits()"
   ]
  },
  {
   "cell_type": "markdown",
   "metadata": {},
   "source": [
    "\n",
    "***\n",
    "\n",
    "### Question 4\n",
    "\n",
    "Create a module in the class Student that computes the unweighted average of the student's grades."
   ]
  },
  {
   "cell_type": "code",
   "execution_count": 68,
   "metadata": {},
   "outputs": [],
   "source": [
    "# Your answer here\n",
    "class Student:\n",
    "    def __init__(self, id_, fname, lname, grds, cdts, mjr):\n",
    "        self.id = id_\n",
    "        self.firstname = fname\n",
    "        self.lastname = lname\n",
    "        self.grades = grds\n",
    "        self.credits = cdts\n",
    "        self.major = mjr\n",
    "    def unweighted_average(self):\n",
    "        avg = 0\n",
    "        for i in self.grades:\n",
    "            avg += i\n",
    "        avg = avg/len(self.grades)\n",
    "        return avg"
   ]
  },
  {
   "cell_type": "code",
   "execution_count": 69,
   "metadata": {},
   "outputs": [],
   "source": [
    "stu2 = Student('12345', 'Umberto', 'Mig', [9.5, 10.0, 10.0, 8.0], [3, 4, 1, 3], 'QSS')"
   ]
  },
  {
   "cell_type": "code",
   "execution_count": 70,
   "metadata": {},
   "outputs": [
    {
     "name": "stdout",
     "output_type": "stream",
     "text": [
      "9.375\n"
     ]
    }
   ],
   "source": [
    "stu2.unweighted_average()"
   ]
  },
  {
   "cell_type": "markdown",
   "metadata": {},
   "source": [
    "\n",
    "***\n",
    "\n",
    "### Question 5\n",
    "\n",
    "Create a module in the class Student that computes the weighted average of the student's grades, weighted by the credits."
   ]
  },
  {
   "cell_type": "code",
   "execution_count": 1,
   "metadata": {},
   "outputs": [],
   "source": [
    "# Your answer here\n",
    "class Student:\n",
    "    def __init__(self, id_, fname, lname, grds, cdts, mjr):\n",
    "        self.id = id_\n",
    "        self.firstname = fname\n",
    "        self.lastname = lname\n",
    "        self.grades = grds\n",
    "        self.credits = cdts\n",
    "        self.major = mjr\n",
    "    def weighted_average(self):\n",
    "        print(sum([self.grades[i]*self.credits[i] for i in range(len(self.grades))])/sum(self.credits))\n",
    "#not sure whether this works?"
   ]
  },
  {
   "cell_type": "code",
   "execution_count": 2,
   "metadata": {},
   "outputs": [],
   "source": [
    "stu2 = Student('12345', 'Umberto', 'Mig', [9.5, 10.0, 10.0, 8.0], [3, 4, 1, 3], 'QSS')"
   ]
  },
  {
   "cell_type": "code",
   "execution_count": 3,
   "metadata": {},
   "outputs": [
    {
     "name": "stdout",
     "output_type": "stream",
     "text": [
      "9.318181818181818\n"
     ]
    }
   ],
   "source": [
    "stu2.weighted_average()\n",
    "\n"
   ]
  },
  {
   "cell_type": "markdown",
   "metadata": {},
   "source": [
    "**That's all, folks!**"
   ]
  }
 ],
 "metadata": {
  "kernelspec": {
   "display_name": "Python 3",
   "language": "python",
   "name": "python3"
  },
  "language_info": {
   "codemirror_mode": {
    "name": "ipython",
    "version": 3
   },
   "file_extension": ".py",
   "mimetype": "text/x-python",
   "name": "python",
   "nbconvert_exporter": "python",
   "pygments_lexer": "ipython3",
   "version": "3.7.6"
  }
 },
 "nbformat": 4,
 "nbformat_minor": 4
}
