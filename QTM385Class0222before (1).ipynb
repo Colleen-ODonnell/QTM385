{
 "cells": [
  {
   "cell_type": "markdown",
   "metadata": {},
   "source": [
    "# QTM 385\n",
    "\n",
    "> Class 02/22\n",
    "\n",
    "> Statements, Conditional Statements, While Loops"
   ]
  },
  {
   "cell_type": "markdown",
   "metadata": {},
   "source": [
    "## Python Hierarchy\n",
    "\n",
    "1. Programs are composed of modules.\n",
    "\n",
    "2. Modules contain statements.\n",
    "\n",
    "3. Statements contain expressions.\n",
    "\n",
    "4. Expressions create and process objects.\n",
    "\n",
    "**Statements**: things you tell Python it should do."
   ]
  },
  {
   "cell_type": "markdown",
   "metadata": {},
   "source": [
    "## Types of Statements\n",
    "\n",
    "There are several types of statements in Python:\n",
    "\n",
    "| Statement                   | Role                         |\n",
    "|-----------------------------|------------------------------|\n",
    "| Assignment                  | Creating references          |\n",
    "| Calls and other expressions | Running functions            |\n",
    "| print calls                 | Printing objects             |\n",
    "| if/elif/else                | Selecting actions            |\n",
    "| for/else                    | Iteration                    |\n",
    "| while/else                  | General loops                |\n",
    "| pass                        | Empty placeholder            |\n",
    "| break                       | Loop exit                    |\n",
    "| continue                    | Loop continue                |\n",
    "| def                         | Functions and methods        |\n",
    "| return                      | Functions results            |\n",
    "| yield                       | Generator functions          |\n",
    "| global                      | Namespaces                   |\n",
    "| nonlocal                    | Namespaces (3.X)             |\n",
    "| import                      | Module access                |\n",
    "| from                        | Attribute access             |\n",
    "| class                       | Building objects             |\n",
    "| try/except/ finally         | Catching exceptions          |\n",
    "| raise                       | Triggering exceptions        |\n",
    "| assert                      | Debugging checks             |\n",
    "| with/as                     | Context managers (3.X, 2.6+) |\n",
    "| del                         | Deleting references          |\n",
    "\n",
    "Each statement has its own specific purpose and its own operation rules. We did learn some of those by now. We will learn some more.\n",
    "\n",
    "## Today's Agenda\n",
    "\n",
    "1. Perfecting if-else (if-elif-else)\n",
    "\n",
    "2. Learn boolean types\n",
    "\n",
    "3. Learn `while` loops\n",
    "\n",
    "****"
   ]
  },
  {
   "cell_type": "markdown",
   "metadata": {},
   "source": [
    "## If-elif-else"
   ]
  },
  {
   "cell_type": "markdown",
   "metadata": {},
   "source": [
    "The basic syntax for this is:\n",
    "\n",
    "```\n",
    "if test1:                 # if test\n",
    "    statements1           # Associated block\n",
    "elif test2:               # Optional elifs\n",
    "    statements2\n",
    "else:                     # Optional else\n",
    "    statements3\n",
    "```"
   ]
  },
  {
   "cell_type": "code",
   "execution_count": 2,
   "metadata": {},
   "outputs": [
    {
     "name": "stdout",
     "output_type": "stream",
     "text": [
      "great choice\n"
     ]
    }
   ],
   "source": [
    "# My code here\n",
    "choice = 'spam'\n",
    "if choice == 'spam':\n",
    "    print('great choice')\n",
    "elif choice == 'ham':\n",
    "    print('ok choice')\n",
    "else: print('bad choice')"
   ]
  },
  {
   "cell_type": "markdown",
   "metadata": {},
   "source": [
    "**Exercise**: A paper just out at [PLOS One](https://journals.plos.org/plosone/article?id=10.1371/journal.pone.0247023) showed that people with low or high BMI have higher chance of severe COVID. Create an if-elif-else to warn the person."
   ]
  },
  {
   "cell_type": "code",
   "execution_count": 3,
   "metadata": {},
   "outputs": [
    {
     "name": "stdout",
     "output_type": "stream",
     "text": [
      "High risk b/c of high bmi\n"
     ]
    }
   ],
   "source": [
    "## Your answers here!\n",
    "BMI = 30\n",
    "if BMI < 18:\n",
    "    print('High risk b/c of low bmi')\n",
    "elif BMI >= 18 and BMI <= 28:\n",
    "    print('Low risk of severe covid')\n",
    "else:\n",
    "    print('High risk b/c of high bmi')"
   ]
  },
  {
   "cell_type": "markdown",
   "metadata": {},
   "source": [
    "### Memberships and ifs"
   ]
  },
  {
   "cell_type": "code",
   "execution_count": 4,
   "metadata": {},
   "outputs": [],
   "source": [
    "# My code here\n",
    "D = {'low': 18, \n",
    "     'ok': 25, \n",
    "    'high': 35}"
   ]
  },
  {
   "cell_type": "code",
   "execution_count": 5,
   "metadata": {},
   "outputs": [
    {
     "name": "stdout",
     "output_type": "stream",
     "text": [
      "18\n"
     ]
    }
   ],
   "source": [
    "if 'low' in D:\n",
    "    print(D['low'])\n",
    "else: \n",
    "    print('not there')"
   ]
  },
  {
   "cell_type": "code",
   "execution_count": 6,
   "metadata": {},
   "outputs": [
    {
     "ename": "KeyError",
     "evalue": "'astronomical'",
     "output_type": "error",
     "traceback": [
      "\u001b[0;31m---------------------------------------------------------------------------\u001b[0m",
      "\u001b[0;31mKeyError\u001b[0m                                  Traceback (most recent call last)",
      "\u001b[0;32m<ipython-input-6-f02255a5d2f8>\u001b[0m in \u001b[0;36m<module>\u001b[0;34m\u001b[0m\n\u001b[0;32m----> 1\u001b[0;31m \u001b[0mD\u001b[0m\u001b[0;34m[\u001b[0m\u001b[0;34m'astronomical'\u001b[0m\u001b[0;34m]\u001b[0m\u001b[0;34m\u001b[0m\u001b[0;34m\u001b[0m\u001b[0m\n\u001b[0m\u001b[1;32m      2\u001b[0m \u001b[0;31m#if you do this without the if/else and astronomical isn't there, will give you an error\u001b[0m\u001b[0;34m\u001b[0m\u001b[0;34m\u001b[0m\u001b[0;34m\u001b[0m\u001b[0m\n",
      "\u001b[0;31mKeyError\u001b[0m: 'astronomical'"
     ]
    }
   ],
   "source": [
    "D['astronomical']\n",
    "#if you do this without the if/else and astronomical isn't there, will give you an error"
   ]
  },
  {
   "cell_type": "code",
   "execution_count": 7,
   "metadata": {},
   "outputs": [
    {
     "name": "stdout",
     "output_type": "stream",
     "text": [
      "x is bigger than 2\n"
     ]
    }
   ],
   "source": [
    "x = 3\n",
    "if x > 2:\n",
    "    print('x is bigger than 2')\n",
    "else: \n",
    "    print('small')"
   ]
  },
  {
   "cell_type": "code",
   "execution_count": 8,
   "metadata": {},
   "outputs": [
    {
     "name": "stdout",
     "output_type": "stream",
     "text": [
      "has h\n"
     ]
    }
   ],
   "source": [
    "x = 'higher'\n",
    "\n",
    "if 'h' in x:\n",
    "    print('has h')\n",
    "else:\n",
    "    print('no h')"
   ]
  },
  {
   "cell_type": "markdown",
   "metadata": {},
   "source": [
    "### Try-except"
   ]
  },
  {
   "cell_type": "code",
   "execution_count": 9,
   "metadata": {},
   "outputs": [
    {
     "name": "stdout",
     "output_type": "stream",
     "text": [
      "Not good\n"
     ]
    }
   ],
   "source": [
    "# My code here\n",
    "#use try-except to prevent computer from crashing from really bad error\n",
    "try:\n",
    "    D['astronomical']\n",
    "except KeyError:\n",
    "    print('Not good')\n",
    "    "
   ]
  },
  {
   "cell_type": "markdown",
   "metadata": {},
   "source": [
    "## Boolean"
   ]
  },
  {
   "cell_type": "code",
   "execution_count": 13,
   "metadata": {},
   "outputs": [],
   "source": [
    "# My code here\n",
    "x = True #1 equals sign means assignment\n",
    "y= False\n",
    "print(x)\n",
    "print(y)"
   ]
  },
  {
   "cell_type": "code",
   "execution_count": 15,
   "metadata": {},
   "outputs": [
    {
     "data": {
      "text/plain": [
       "False"
      ]
     },
     "execution_count": 15,
     "metadata": {},
     "output_type": "execute_result"
    }
   ],
   "source": [
    "3 == 2 #2 equals signs means comparison"
   ]
  },
  {
   "cell_type": "code",
   "execution_count": 17,
   "metadata": {},
   "outputs": [
    {
     "name": "stdout",
     "output_type": "stream",
     "text": [
      "True\n"
     ]
    }
   ],
   "source": [
    "print(3 == (2+1))"
   ]
  },
  {
   "cell_type": "code",
   "execution_count": 18,
   "metadata": {},
   "outputs": [
    {
     "data": {
      "text/plain": [
       "True"
      ]
     },
     "execution_count": 18,
     "metadata": {},
     "output_type": "execute_result"
    }
   ],
   "source": [
    "3 > 2"
   ]
  },
  {
   "cell_type": "code",
   "execution_count": 19,
   "metadata": {},
   "outputs": [
    {
     "data": {
      "text/plain": [
       "True"
      ]
     },
     "execution_count": 19,
     "metadata": {},
     "output_type": "execute_result"
    }
   ],
   "source": [
    "3 >= 3"
   ]
  },
  {
   "cell_type": "code",
   "execution_count": 20,
   "metadata": {},
   "outputs": [
    {
     "data": {
      "text/plain": [
       "False"
      ]
     },
     "execution_count": 20,
     "metadata": {},
     "output_type": "execute_result"
    }
   ],
   "source": [
    "3 > 3"
   ]
  },
  {
   "cell_type": "code",
   "execution_count": 24,
   "metadata": {},
   "outputs": [
    {
     "name": "stdout",
     "output_type": "stream",
     "text": [
      "False\n",
      "False\n",
      "True\n",
      "False\n",
      "True\n",
      "False\n",
      "True\n",
      "True\n"
     ]
    }
   ],
   "source": [
    "tr = True\n",
    "fa = False\n",
    "\n",
    "#and - is True only if both statements are true\n",
    "print((3 > 2) and (5 > 10))\n",
    "print((3 < 2) and (5 > 10))\n",
    "print((3 > 2) and (5 < 10)) #does give you true even if both statements are true for or\n",
    "print((3 < 2) and (5 < 10))\n",
    "\n",
    "#or - is True if one of the statements is true\n",
    "print((3 > 2) or (5 > 10))\n",
    "print((3 < 2) or (5 > 10))\n",
    "print((3 > 2) or (5 < 10))\n",
    "print((3 < 2) or (5 < 10))\n"
   ]
  },
  {
   "cell_type": "code",
   "execution_count": 26,
   "metadata": {},
   "outputs": [
    {
     "name": "stdout",
     "output_type": "stream",
     "text": [
      "horray!\n"
     ]
    }
   ],
   "source": [
    "x = 'horray!' if 3 > 2 else 'sad'\n",
    "print(x)\n",
    "\n",
    "#says horray b/c 3 > 2 --- the condition is true"
   ]
  },
  {
   "cell_type": "markdown",
   "metadata": {},
   "source": [
    "**Exercise**: Rewrite the previous warning exercise using only two lines. One for the BMI, and the other for the warning."
   ]
  },
  {
   "cell_type": "code",
   "execution_count": 27,
   "metadata": {},
   "outputs": [
    {
     "data": {
      "text/plain": [
       "'You are under severe risk of covid'"
      ]
     },
     "execution_count": 27,
     "metadata": {},
     "output_type": "execute_result"
    }
   ],
   "source": [
    "## Your answers here! 43min\n",
    "BMI = 30 \n",
    "'You are under severe risk of covid' if (BMI < 18 or BMI > 28) else 'You are good to go'\n",
    "#satisfies condition for under severe risk of covid"
   ]
  },
  {
   "cell_type": "markdown",
   "metadata": {},
   "source": [
    "## `while`"
   ]
  },
  {
   "cell_type": "markdown",
   "metadata": {},
   "source": [
    "The basic syntax for the `while` loop is:\n",
    "\n",
    "```\n",
    "while test:                     # Loop test\n",
    "    statements                  # Loop body\n",
    "else:                           # Optional else\n",
    "    statements                  # Run if didn't exit loop with break\n",
    "```"
   ]
  },
  {
   "cell_type": "code",
   "execution_count": 29,
   "metadata": {},
   "outputs": [
    {
     "name": "stdout",
     "output_type": "stream",
     "text": [
      "0\n",
      "1\n",
      "4\n",
      "9\n",
      "16\n",
      "25\n",
      "36\n",
      "49\n",
      "64\n",
      "81\n",
      "Im done\n"
     ]
    }
   ],
   "source": [
    "# My code here! \n",
    "#for while loop, have to do a test-----comparison (single or multiple)\n",
    "x = 0\n",
    "while x < 10:\n",
    "    print(x**2)\n",
    "    x += 1 #to update x, if not you would only have x = 0 go through\n",
    "else: \n",
    "    print('Im done')\n",
    "\n",
    "#when x < 10, going to run through code\n",
    "#0^2, 1^2 etc, when x = 10 goes to the else"
   ]
  },
  {
   "cell_type": "code",
   "execution_count": 30,
   "metadata": {},
   "outputs": [
    {
     "name": "stdout",
     "output_type": "stream",
     "text": [
      "0\n",
      "1\n",
      "4\n",
      "9\n",
      "16\n",
      "25\n",
      "36\n",
      "49\n",
      "64\n",
      "81\n",
      "Im done\n"
     ]
    }
   ],
   "source": [
    "x = 0\n",
    "while x < 10:\n",
    "    print(x**2)\n",
    "    x += 1 #to update x, if not you would only have x = 0 go through\n",
    "    \n",
    "print('Im done') #don't have to include the else, can just write print and it will still print once x = 10"
   ]
  },
  {
   "cell_type": "code",
   "execution_count": 31,
   "metadata": {},
   "outputs": [],
   "source": [
    "#infinite loop\n",
    "#while True:\n",
    "    #print('Oh no, Im trapped') #will print this forever\n",
    "\n",
    "#do control c to exit out of a loop that is running forever"
   ]
  },
  {
   "cell_type": "code",
   "execution_count": null,
   "metadata": {},
   "outputs": [],
   "source": [
    "#count to infinity\n",
    "#x = 0\n",
    "#while True:\n",
    "   # print(x)\n",
    "   # x += 1\n"
   ]
  },
  {
   "cell_type": "markdown",
   "metadata": {},
   "source": [
    "### Customizing the `while` loop\n",
    "\n",
    "There are several statements that we can use to make the `while` loop behave in the way we want:\n",
    "\n",
    "1. **break**: stops execution\n",
    "2. **continue**: jumps to the header.\n",
    "3. **pass**: does nothing, just keep going.\n",
    "4. loop **else** block: add an else block at the end of the loop\n",
    "\n",
    "And the basic syntax is:\n",
    "\n",
    "```\n",
    "while test:\n",
    "    statements\n",
    "    if test: break                 # Exit loop now, skip else if present\n",
    "    if test: continue              # Go to test at top of loop now\n",
    "else:\n",
    "    statements                     # Run if we didn't hit a 'break'\n",
    "```"
   ]
  },
  {
   "cell_type": "code",
   "execution_count": 32,
   "metadata": {},
   "outputs": [],
   "source": [
    "# My code here!\n",
    "#pass doesn't really mean anything\n",
    "#any object that is empty is a false object (object w/ nothing inside it)"
   ]
  },
  {
   "cell_type": "code",
   "execution_count": 3,
   "metadata": {},
   "outputs": [
    {
     "name": "stdout",
     "output_type": "stream",
     "text": [
      "spam pam am m "
     ]
    }
   ],
   "source": [
    "x = 'spam'\n",
    "while x: #every object that has something inside it is a true object (so its like satisfying condition)\n",
    "    print(x, end = ' ') #creates 2 spaces between each thing\n",
    "    x = x[1:] #removes the first letter of spam, code runs into the word is empty\n",
    "\n",
    "#have print first if you want 'spam' included, if not would just start w/ 'pam'\n"
   ]
  },
  {
   "cell_type": "code",
   "execution_count": 36,
   "metadata": {},
   "outputs": [
    {
     "name": "stdout",
     "output_type": "stream",
     "text": [
      "am m  "
     ]
    }
   ],
   "source": [
    "x = 'spam'\n",
    "while x: \n",
    "    x = x[1:]\n",
    "    if 'p' in x: continue #when x has p in it, it goes back to the top, iterates through each version of letter cut off\n",
    "    print(x, end = ' ') #it is not going to print until 'p' is out of the string x\n",
    "        "
   ]
  },
  {
   "cell_type": "code",
   "execution_count": 38,
   "metadata": {},
   "outputs": [
    {
     "name": "stdout",
     "output_type": "stream",
     "text": [
      "still has p\n",
      "am m  "
     ]
    }
   ],
   "source": [
    "x = 'spam'\n",
    "while x: \n",
    "    x = x[1:]\n",
    "    if 'p' in x: \n",
    "        print('still has p')\n",
    "        continue #continue essentially means go back to the top!\n",
    "    print(x, end = ' ')"
   ]
  },
  {
   "cell_type": "code",
   "execution_count": null,
   "metadata": {},
   "outputs": [],
   "source": [
    "x = 'spam'\n",
    "while x: \n",
    "    if 'p' in x: \n",
    "        print('still has p')\n",
    "        continue\n",
    "    print(x, end = ' ')\n",
    "    x = x[1:]\n",
    "#will still print 'still has p' infinitly, x will always equal spam, never removes the p so won't get to the last two lines"
   ]
  },
  {
   "cell_type": "markdown",
   "metadata": {},
   "source": [
    "### continue"
   ]
  },
  {
   "cell_type": "code",
   "execution_count": 9,
   "metadata": {},
   "outputs": [],
   "source": [
    "# My code here"
   ]
  },
  {
   "cell_type": "markdown",
   "metadata": {},
   "source": [
    "### break"
   ]
  },
  {
   "cell_type": "code",
   "execution_count": 39,
   "metadata": {},
   "outputs": [
    {
     "name": "stdout",
     "output_type": "stream",
     "text": [
      "still has p\n"
     ]
    }
   ],
   "source": [
    "# My code here\n",
    "x = 'spam'\n",
    "while x: \n",
    "    x = x[1:]\n",
    "    if 'p' in x: \n",
    "        print('still has p')\n",
    "        break #when it reaches p it stops\n",
    "    print(x, end = ' ')\n",
    "    "
   ]
  },
  {
   "cell_type": "markdown",
   "metadata": {},
   "source": [
    "### loop-else"
   ]
  },
  {
   "cell_type": "code",
   "execution_count": 11,
   "metadata": {},
   "outputs": [],
   "source": [
    "# My code here"
   ]
  },
  {
   "cell_type": "markdown",
   "metadata": {},
   "source": [
    "**Exercise**: Create a loop from 1 to 100 (increasing), that displays all the multiples of 2, 3, and 5."
   ]
  },
  {
   "cell_type": "code",
   "execution_count": 42,
   "metadata": {},
   "outputs": [
    {
     "name": "stdout",
     "output_type": "stream",
     "text": [
      "2 3 4 5 6 8 9 10 12 14 15 16 18 20 21 22 24 25 26 27 28 30 32 33 34 35 36 38 39 40 42 44 45 46 48 50 51 52 54 55 56 57 58 60 62 63 64 65 66 68 69 70 72 74 75 76 78 80 81 82 84 85 86 87 88 90 92 93 94 95 96 98 99 100 "
     ]
    }
   ],
   "source": [
    "## Your answers here!\n",
    "x = 0\n",
    "while x < 100: #since it is a range from 1 to 100\n",
    "    x +=1\n",
    "    if x % 2 == 0:\n",
    "        print(x, end = ' ')\n",
    "    elif x % 3 == 0:\n",
    "        print(x, end = ' ')\n",
    "    elif x % 5 == 0:\n",
    "        print(x, end = ' ')\n",
    "    else: continue #use continue cause you want to go back up to the top to go to next number\n",
    "\n",
    "#think about how you would display multiples of 2 or 3 but not both"
   ]
  },
  {
   "cell_type": "code",
   "execution_count": 43,
   "metadata": {},
   "outputs": [],
   "source": [
    "#Write a command prompt that:\n",
    "\n",
    "#1. Takes all that the user inserts and reverts it.\n",
    "\n",
    "#2. Stops when the user types stop."
   ]
  },
  {
   "cell_type": "markdown",
   "metadata": {},
   "source": [
    "## Counting lines in a book"
   ]
  },
  {
   "cell_type": "markdown",
   "metadata": {},
   "source": [
    "### Project Gutenberg\n",
    "\n",
    "Project Gutenberg is a website with many open books on it. You can check it out using the following URL: https://www.gutenberg.org"
   ]
  },
  {
   "cell_type": "markdown",
   "metadata": {},
   "source": [
    "### Find working directory"
   ]
  },
  {
   "cell_type": "code",
   "execution_count": 13,
   "metadata": {},
   "outputs": [],
   "source": [
    "# My code here"
   ]
  },
  {
   "cell_type": "markdown",
   "metadata": {},
   "source": [
    "### Open file and counting lines"
   ]
  },
  {
   "cell_type": "code",
   "execution_count": 14,
   "metadata": {},
   "outputs": [],
   "source": [
    "# My code here"
   ]
  },
  {
   "cell_type": "markdown",
   "metadata": {},
   "source": [
    "**Exercise**: Now count how many characters you have in the book."
   ]
  },
  {
   "cell_type": "code",
   "execution_count": 15,
   "metadata": {},
   "outputs": [],
   "source": [
    "## Your answers here!"
   ]
  },
  {
   "cell_type": "markdown",
   "metadata": {},
   "source": [
    "**Great job!!!**"
   ]
  }
 ],
 "metadata": {
  "kernelspec": {
   "display_name": "Python 3",
   "language": "python",
   "name": "python3"
  },
  "language_info": {
   "codemirror_mode": {
    "name": "ipython",
    "version": 3
   },
   "file_extension": ".py",
   "mimetype": "text/x-python",
   "name": "python",
   "nbconvert_exporter": "python",
   "pygments_lexer": "ipython3",
   "version": "3.7.6"
  }
 },
 "nbformat": 4,
 "nbformat_minor": 4
}
