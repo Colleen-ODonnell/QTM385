{
 "cells": [
  {
   "cell_type": "markdown",
   "metadata": {},
   "source": [
    "# QTM 385\n",
    "\n",
    "> \n",
    "> Class 03/29 -- \n",
    "> Web Scraping 2\n",
    "> \n",
    "\n",
    "**Important about this week**\n",
    "\n",
    "1. There will be no quiz for today's class.\n",
    "2. I will post the midterm eval of my performance later today. Thank you!\n",
    "3. Please submit your matching survey answers by tomorrow at 12:00PM, so that I can pick up the groups.\n",
    "\n",
    "**Important in terms of content**\n",
    "\n",
    "For this week:\n",
    "\n",
    "1. This class is going to be about **webscraping**.\n",
    "2. Next class is going to be about **matplotlib**.\n",
    "\n",
    "Then we are done Python! There are many other things you should learn, but this here is enough to make you an independent Python user. Great job!\n",
    "\n",
    "I will later during the week post a video on how to download and install MySQL and DBeaver. We will get started with SQL from the next week until the end of the course.\n",
    "\n",
    "**Asynchronous Materials**\n",
    "\n",
    "I will later today assign two DataCamp courses. As you know, they are optional, but highly suggested!"
   ]
  },
  {
   "cell_type": "markdown",
   "metadata": {},
   "source": [
    "# Web Scraping\n",
    "\n",
    "Web scraping is a lot of fun. Imagine what you can do if you could download data from multiple page sources from the internet?\n",
    "\n",
    "For example:\n",
    "\n",
    "1. You can scrape all the recipes from a cooking website\n",
    "\n",
    "2. You can scrape the prices of your preferred \n",
    "\n",
    "3. You can find information about prices of products and services that you are interested in consuming.\n",
    "\n",
    "4. You can even scrape the `rate my professor` page to decide which professor you should consider taking classes in the next semester.\n",
    "\n",
    "And many other applications.\n",
    "\n",
    "The web scraping class is going to be divided into two main parts:\n",
    "\n",
    "- Learn HTML and how to crawl a webpage (this class).\n",
    "\n",
    "- Learn how to build automated crawlers for scraping the content you want to learn about (next class).\n",
    "\n",
    "## Web Scraping Pipeline\n",
    "\n",
    "Do webscraping is easy. You have to:\n",
    "\n",
    "1. Know exactly what information you want to extract.\n",
    "\n",
    "2. Have some idea on how to find the sources of these informations (and this can also be part of the webscraping)\n",
    "\n",
    "3. Parse the data and extract what you want.\n",
    "\n",
    "4. Tidy the data parsed and shape if for analysis."
   ]
  },
  {
   "cell_type": "markdown",
   "metadata": {},
   "source": [
    "## HTML - HyperText Markup Language\n",
    "\n",
    "This is a `html` page:\n",
    "\n",
    "```\n",
    "html = \"\"\"\n",
    "<!DOCTYPE html>\n",
    "<html>\n",
    "  <body>\n",
    "    <h1>My First Heading</h1>\n",
    "    <p>My first paragraph.</p>\n",
    "  </body>\n",
    "</html>\n",
    "\"\"\"\n",
    "```\n",
    "\n",
    "And this page shows us: file:///Users/umbertomignozzetti/Dropbox/Academic/Teaching/2021/QTM385/qtm385/parsing-examples/example1.html *Note that it will not work in your computer*...\n",
    "\n",
    "The page is comprised of **tags**, that tells our browser what to display at each point.\n",
    "\n",
    "Note that it has a tree-shape format. Consider now this HTML here:\n",
    "\n",
    "```\n",
    "'''\n",
    "<html>\n",
    "  <head>\n",
    "    <title>Learning HTML</title>\n",
    "  </head>\n",
    "  <body>\n",
    "    <p>QTM 385</p>\n",
    "    <p>Professor Umberto</p>\n",
    "  </body>\n",
    "</html>\n",
    "'''\n",
    "```\n",
    "\n",
    "Here is a list of a few tags:\n",
    "\n",
    "1. `<html> ... </html>`: Tags the HTML file\n",
    "2. `<body> ... </body>`: Tags the body of the HTML file\n",
    "3. `<div> ... </div>`: Tags a section of the HTML file\n",
    "4. `<p> ... </p>`: Tags a paragraph in the HTML file\n",
    "5. `<a> ... </a>`: Tags a link in the HTML file (a stands for anchor)\n",
    "\n",
    "\n",
    "All tags are in the following format:\n",
    "\n",
    "```\n",
    "<tag-name tag-attr=\"att info\">\n",
    "    ...Inside content...\n",
    "</tag-name>\n",
    "```\n",
    "\n",
    "Tags can also have an **id** and a **class** (it can actually have a lot of attributes!). For example:\n",
    "\n",
    "\n",
    "All tags are in the following format:\n",
    "\n",
    "```\n",
    "<div id=\"my_qtm385_class\" class = \"format-class classmonday classwednesday\">\n",
    "    ...Inside content...\n",
    "</div>\n",
    "```\n",
    "\n",
    "- **id** is always unique. In this case, it is `my_qtm385_class`\n",
    "\n",
    "- **class** doesn't need to be unique. In this case, the `div` tag belongs to three different classes: `format-class`, `classmonday`, `classwednesday`!\n",
    "\n",
    "Attributes change with tags. For example, the `<a>` tag has an attribute called `href`, that has the URL the link refers to:n `<a id = \"my_beautiful_tag\" href = \"www.emory.edu\">`"
   ]
  },
  {
   "cell_type": "markdown",
   "metadata": {},
   "source": [
    "**Exercise**: Consider the following html:\n",
    "\n",
    "```\n",
    "<html>\n",
    "  <head>\n",
    "    <title>Website Title</title>\n",
    "    <link rel=\"stylesheet\" type=\"text/css\" href=\"style.css\">\n",
    "  </head>\n",
    "  <body>\n",
    "    <div class=\"class1\" id=\"div1\">\n",
    "      <p class=\"class2\">\n",
    "        Visit <a href=\"http://umbertomig.com/\">Umberto's Website</a>!\n",
    "      </p>\n",
    "    </div>\n",
    "    <div class=\"class1 class3\" id=\"div2\">\n",
    "      Hello World!\n",
    "    </div>\n",
    "  </body>\n",
    "</html>\n",
    "```\n",
    "\n",
    "Draw a tree of this html file. Which elements belong to the class `class1`?"
   ]
  },
  {
   "cell_type": "markdown",
   "metadata": {},
   "source": [
    "## XPath"
   ]
  },
  {
   "cell_type": "markdown",
   "metadata": {},
   "source": [
    "XPath is a way to navigate into the HTML content.\n",
    "\n",
    "It looks like a folder structure in a computer. For instance, in the HTML:\n",
    "\n",
    "```\n",
    "<html>\n",
    "  <head>\n",
    "    <title>Website Title</title>\n",
    "    <link rel=\"stylesheet\" type=\"text/css\" href=\"style.css\">\n",
    "  </head>\n",
    "  <body>\n",
    "    <div class=\"class1\" id=\"div1\">\n",
    "      <p class=\"class2\">\n",
    "        Visit <a href=\"http://umbertomig.com/\">Umberto's Website</a>!\n",
    "      </p>\n",
    "    </div>\n",
    "    <div class=\"class1 class3\" id=\"div2\">\n",
    "      Hello World!\n",
    "    </div>\n",
    "    <p> This is a QTM 385 example. A beautiful example!! </p>\n",
    "    <h1> My level 1 header </h1>\n",
    "    <p> Another qtm 385 paragraph! </p>\n",
    "  </body>\n",
    "</html>\n",
    "```\n",
    "\n",
    "The hello world phrase is in the following div: `'/html/body/div[2]'`\n",
    "\n",
    "Note the particulars of the notation: one forward slash moves to the next generation. When there are more than one element, square brackets indexes them.\n",
    "\n",
    "And, if we want to select all elements within a webpage, we use the `//`. For example, if we want to find all `div`s in a webpage, we do:\n",
    "\n",
    "- `//div`\n",
    "\n",
    "If we want to find all `div` elements inside the body tag:\n",
    "\n",
    "- `/html/body//div`"
   ]
  },
  {
   "cell_type": "markdown",
   "metadata": {},
   "source": [
    "**Exercise**: In this html:\n",
    "\n",
    "```\n",
    "<html>\n",
    "  <head>\n",
    "    <title>Website Title</title>\n",
    "    <link rel=\"stylesheet\" type=\"text/css\" href=\"style.css\">\n",
    "  </head>\n",
    "  <body>\n",
    "    <div class=\"class1\" id=\"div1\">\n",
    "      <p class=\"class2\">\n",
    "        Visit <a href=\"http://umbertomig.com/\">Umberto's Website</a>!\n",
    "      </p>\n",
    "    </div>\n",
    "    <div class=\"class1 class3\" id=\"div2\">\n",
    "      Hello World!\n",
    "    </div>\n",
    "    <p> This is a QTM 385 example. A beautiful example!! </p>\n",
    "    <h1> My level 1 header </h1>\n",
    "    <p> Another qtm 385 paragraph! </p>\n",
    "  </body>\n",
    "</html>\n",
    "```\n",
    "\n",
    "1. What XPath extracts all the paragraphs?\n",
    "2. Which elements are selected when we use the XPath `/html/body/p`?"
   ]
  },
  {
   "cell_type": "markdown",
   "metadata": {},
   "source": [
    "***\n",
    "\n",
    "## XPath Selection\n",
    "\n",
    "When we want to select all elements that have the same tag, we need to do `//tagname`. To index the element, we use square brackets. Note that the XPath elements start with 1!\n",
    "\n",
    "### The wildcard\n",
    "\n",
    "If we want to ignore the tag, and select all the elements, regardless the tag, we should use the *wildcard*. \n",
    "\n",
    "- `/html/body/*`\n",
    "\n",
    "Selects all elements in the previous html.\n",
    "\n",
    "### Attribute selection\n",
    "\n",
    "To refer to a specific attribute we should use the `@`. For example:\n",
    "\n",
    "- `/html/body/div[@id = \"div1\"]`\n",
    "\n",
    "Will select only the first `div`. We can do that with all attributes.\n",
    "\n",
    "### Attribute extraction\n",
    "\n",
    "To extract the name of the attribute, we simply need to add the `@` and the attribute to the end of the XPath:\n",
    "\n",
    "- `/html/body/div[1]/@id`\n",
    "\n",
    "And this matches the `div1` content."
   ]
  },
  {
   "cell_type": "markdown",
   "metadata": {},
   "source": [
    "***\n",
    "\n",
    "## scrapy\n",
    "\n",
    "The module we use to scrape the data is called `scrapy`. In the previous lesson, saw how to load it in our computer. Let's go ahead and load the `Selector` module, inside the library `scrapy`"
   ]
  },
  {
   "cell_type": "code",
   "execution_count": 1,
   "metadata": {},
   "outputs": [],
   "source": [
    "# My code here"
   ]
  },
  {
   "cell_type": "markdown",
   "metadata": {},
   "source": [
    "And let's parse the following html code:\n",
    "\n",
    "```\n",
    "html = \"\"\"\n",
    "<html>\n",
    "  <head>\n",
    "    <title>Website Title</title>\n",
    "    <link rel=\"stylesheet\" type=\"text/css\" href=\"style.css\">\n",
    "  </head>\n",
    "  <body>\n",
    "    <div class=\"class1\" id=\"div1\">\n",
    "      <p class=\"class2\">\n",
    "        Visit <a href=\"http://umbertomig.com/\">Umberto's Website</a>!\n",
    "      </p>\n",
    "    </div>\n",
    "    <div class=\"class1 class3\" id=\"div2\">\n",
    "      Hello World!\n",
    "    </div>\n",
    "    <p> This is a QTM 385 example. A beautiful example!! </p>\n",
    "    <h1> My level 1 header </h1>\n",
    "    <p> Another qtm 385 paragraph! </p>\n",
    "  </body>\n",
    "</html>\n",
    "\"\"\"\n",
    "```"
   ]
  },
  {
   "cell_type": "code",
   "execution_count": 2,
   "metadata": {},
   "outputs": [],
   "source": [
    "# My code here"
   ]
  },
  {
   "cell_type": "markdown",
   "metadata": {},
   "source": [
    "To create a selector object, we need to use the Selector class:"
   ]
  },
  {
   "cell_type": "code",
   "execution_count": 3,
   "metadata": {},
   "outputs": [],
   "source": [
    "# My code here"
   ]
  },
  {
   "cell_type": "markdown",
   "metadata": {},
   "source": [
    "And to select all elements in the html object, we do the following:"
   ]
  },
  {
   "cell_type": "code",
   "execution_count": 4,
   "metadata": {},
   "outputs": [],
   "source": [
    "# My code here"
   ]
  },
  {
   "cell_type": "markdown",
   "metadata": {},
   "source": [
    "To avoid the SelectorList we use the method `extract()` (or `extract_first()`):"
   ]
  },
  {
   "cell_type": "code",
   "execution_count": 5,
   "metadata": {},
   "outputs": [],
   "source": [
    "# My code here"
   ]
  },
  {
   "cell_type": "markdown",
   "metadata": {},
   "source": [
    "To extract the text of an element, use the `text()`. For example, this is useful to extract the text within a paragraph, removing the tags."
   ]
  },
  {
   "cell_type": "code",
   "execution_count": 6,
   "metadata": {},
   "outputs": [],
   "source": [
    "# My code here"
   ]
  },
  {
   "cell_type": "markdown",
   "metadata": {},
   "source": [
    "Now it is your turn:"
   ]
  },
  {
   "cell_type": "markdown",
   "metadata": {},
   "source": [
    "**Exercise**: In this html:\n",
    "\n",
    "```\n",
    "<html>\n",
    "  <head>\n",
    "    <title>Website Title</title>\n",
    "    <link rel=\"stylesheet\" type=\"text/css\" href=\"style.css\">\n",
    "  </head>\n",
    "  <body>\n",
    "    <div class=\"class1\" id=\"div1\">\n",
    "      <p class=\"class2\">\n",
    "        Visit <a href=\"http://umbertomig.com/\">Umberto's Website</a>!\n",
    "      </p>\n",
    "    </div>\n",
    "    <div class=\"class1 class3\" id=\"div2\">\n",
    "      Hello World!\n",
    "    </div>\n",
    "    <p> This is a QTM 385 example. A beautiful example!! </p>\n",
    "    <h1> My level 1 header </h1>\n",
    "    <p> Another qtm 385 paragraph! </p>\n",
    "  </body>\n",
    "  <footer>\n",
    "    <div id = \"my_foot\">\n",
    "      <p> My footer here... </p>\n",
    "    </div>\n",
    "  </footer>\n",
    "</html>\n",
    "```\n",
    "\n",
    "1. Extract the title\n",
    "2. Extract all the paragraphs.\n",
    "3. Extract all paragraphs within div1\n",
    "4. Extract all divs\n",
    "5. Extract all divs within the body\n",
    "6. Extract the id of the div in the footer\n",
    "7. Extract the id of all divs\n",
    "8. Extract all the urls linked above"
   ]
  },
  {
   "cell_type": "markdown",
   "metadata": {},
   "source": [
    "***\n",
    "\n",
    "## Web\n",
    "\n",
    "There are many ways to scrape pages online. One (inefficient) way is to use `requests` or the `urllib` modules. The other way (next class), the better way, is to build a spider.\n",
    "\n",
    "We will scrape the page `http://quotes.toscrape.com`."
   ]
  },
  {
   "cell_type": "code",
   "execution_count": 7,
   "metadata": {},
   "outputs": [],
   "source": [
    "# My code here"
   ]
  },
  {
   "cell_type": "markdown",
   "metadata": {},
   "source": [
    "**Exercise**: Extract all quotes in the next page of the `quotes.toscrape.com`."
   ]
  },
  {
   "cell_type": "code",
   "execution_count": 8,
   "metadata": {},
   "outputs": [],
   "source": [
    "## Your code here."
   ]
  },
  {
   "cell_type": "markdown",
   "metadata": {},
   "source": [
    "Next class we will build a spider, scrape some data, and do some data viz using matplotlib!"
   ]
  },
  {
   "cell_type": "markdown",
   "metadata": {},
   "source": [
    "**Great job!!!**"
   ]
  }
 ],
 "metadata": {
  "kernelspec": {
   "display_name": "Python 3",
   "language": "python",
   "name": "python3"
  },
  "language_info": {
   "codemirror_mode": {
    "name": "ipython",
    "version": 3
   },
   "file_extension": ".py",
   "mimetype": "text/x-python",
   "name": "python",
   "nbconvert_exporter": "python",
   "pygments_lexer": "ipython3",
   "version": "3.7.6"
  }
 },
 "nbformat": 4,
 "nbformat_minor": 4
}
