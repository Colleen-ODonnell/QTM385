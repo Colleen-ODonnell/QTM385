{
 "cells": [
  {
   "cell_type": "markdown",
   "metadata": {},
   "source": [
    "# QTM 385\n",
    "\n",
    "> Class 03/01\n",
    "\n",
    "> Generators and Classes"
   ]
  },
  {
   "cell_type": "markdown",
   "metadata": {},
   "source": [
    "# Python functions (cont'd)"
   ]
  },
  {
   "cell_type": "markdown",
   "metadata": {},
   "source": [
    "There are a few topics that we still need to talk about functions. We finished the previous class discussing the best practices to write a function:\n",
    "\n",
    "1. Document your function\n",
    "2. Don't repeat yourself\n",
    "3. Do one thing\n",
    "\n",
    "It remained to discuss the last issue. `Do one thing` stands for having a function that executes only one step of code at a time. This is important because making sure that the function only does one thing helps us XXXX.\n",
    "\n",
    "## Example: a function that does two things\n",
    "\n",
    "Consider the following function (BMI classification from [here](https://www.cancer.org/cancer/cancer-causes/diet-physical-activity/body-weight-and-cancer-risk/adult-bmi.html)):\n",
    "\n",
    "```\n",
    "def my_bmi(w, h):\n",
    "    \"\"\"Body mass index calculator.\n",
    "\n",
    "    Args:\n",
    "        w (int or float): Weight in pounds\n",
    "        h (int or float): Height in inches\n",
    "\n",
    "    Returns:\n",
    "        int for body mass index\n",
    "        str with info about the BMI\n",
    "    \"\"\"\n",
    "    w_in_kg = 0.453592 * w\n",
    "    h_in_m = 0.0254 * h\n",
    "    bmi = w_in_kg/(h_in_m ** 2)\n",
    "    if bmi < 18.5:\n",
    "        return (bmi, 'Underweight')\n",
    "    elif bmi >= 18.5 and bmi < 25:\n",
    "        return (bmi, 'Normal')\n",
    "    elif bmi >= 25 and bmi < 30:\n",
    "        return (bmi, 'Overweight')\n",
    "    else:\n",
    "        return (bmi, 'Obese')\n",
    "```\n",
    "\n",
    "This function does two things: computes BMI and classify it in four brackets. Also, it transforms weight and height from imperial to metric system.\n",
    "\n",
    "We can break this problem into three functions: \n",
    "\n",
    "1. A function that computes bmi from weights in kg and heights in meters.\n",
    "\n",
    "2. A couple of functions that convert pounds into kg and inches into meters\n",
    "\n",
    "3. A function that tells us which brackets our BMI falls into.\n",
    "\n",
    "Let's do them?!"
   ]
  },
  {
   "cell_type": "markdown",
   "metadata": {},
   "source": [
    "**Exercise**: Write three functions:\n",
    "\n",
    "1. `pounds_to_kg`: receives the weight in pounds and covert into kg.\n",
    "\n",
    "2. `inches_to_m`: receives the height in inches and convert into meters.\n",
    "\n",
    "3. `bmi_category`: receives the BMI and classify it using the American Cancer Association categories.\n",
    "\n",
    "Then, re-edit the `my_bmi` function to use the auxiliary functions."
   ]
  },
  {
   "cell_type": "code",
   "execution_count": 1,
   "metadata": {},
   "outputs": [],
   "source": [
    "## Your code here\n",
    "def my_bmi(w, h):\n",
    "    \"\"\"Body mass index calculator.\n",
    "\n",
    "    Args:\n",
    "        w (int or float): Weight in pounds\n",
    "        h (int or float): Height in inches\n",
    "\n",
    "    Returns:\n",
    "        int for body mass index\n",
    "        str with info about the BMI\n",
    "    \"\"\"\n",
    "    w_in_kg = 0.453592 * w\n",
    "    h_in_m = 0.0254 * h\n",
    "    bmi = w_in_kg/(h_in_m ** 2)\n",
    "    if bmi < 18.5:\n",
    "        return (bmi, 'Underweight')\n",
    "    elif bmi >= 18.5 and bmi < 25:\n",
    "        return (bmi, 'Normal')\n",
    "    elif bmi >= 25 and bmi < 30:\n",
    "        return (bmi, 'Overweight')\n",
    "    else:\n",
    "        return (bmi, 'Obese')\n",
    "\n",
    "    #too much inside it"
   ]
  },
  {
   "cell_type": "code",
   "execution_count": 8,
   "metadata": {},
   "outputs": [
    {
     "name": "stdout",
     "output_type": "stream",
     "text": [
      "My BMI is equal to: (28.48080464679448, 'Overweight')\n"
     ]
    },
    {
     "ename": "TypeError",
     "evalue": "'<' not supported between instances of 'tuple' and 'float'",
     "output_type": "error",
     "traceback": [
      "\u001b[0;31m---------------------------------------------------------------------------\u001b[0m",
      "\u001b[0;31mTypeError\u001b[0m                                 Traceback (most recent call last)",
      "\u001b[0;32m<ipython-input-8-335d39a86e0c>\u001b[0m in \u001b[0;36m<module>\u001b[0;34m\u001b[0m\n\u001b[1;32m     29\u001b[0m \u001b[0mbmi\u001b[0m \u001b[0;34m=\u001b[0m \u001b[0mmy_bmi\u001b[0m\u001b[0;34m(\u001b[0m\u001b[0;36m210\u001b[0m\u001b[0;34m,\u001b[0m \u001b[0;36m72\u001b[0m\u001b[0;34m)\u001b[0m\u001b[0;34m\u001b[0m\u001b[0;34m\u001b[0m\u001b[0m\n\u001b[1;32m     30\u001b[0m \u001b[0mprint\u001b[0m\u001b[0;34m(\u001b[0m\u001b[0;34m'My BMI is equal to: '\u001b[0m \u001b[0;34m+\u001b[0m \u001b[0mstr\u001b[0m\u001b[0;34m(\u001b[0m\u001b[0mbmi\u001b[0m\u001b[0;34m)\u001b[0m\u001b[0;34m)\u001b[0m\u001b[0;34m\u001b[0m\u001b[0;34m\u001b[0m\u001b[0m\n\u001b[0;32m---> 31\u001b[0;31m \u001b[0mprint\u001b[0m\u001b[0;34m(\u001b[0m\u001b[0;34m'I am'\u001b[0m \u001b[0;34m+\u001b[0m \u001b[0mbmi_category\u001b[0m\u001b[0;34m(\u001b[0m\u001b[0mbmi\u001b[0m\u001b[0;34m)\u001b[0m\u001b[0;34m)\u001b[0m\u001b[0;34m\u001b[0m\u001b[0;34m\u001b[0m\u001b[0m\n\u001b[0m\u001b[1;32m     32\u001b[0m \u001b[0;31m#print((bmi, bmi_category(bmi)))\u001b[0m\u001b[0;34m\u001b[0m\u001b[0;34m\u001b[0m\u001b[0;34m\u001b[0m\u001b[0m\n\u001b[1;32m     33\u001b[0m \u001b[0;34m\u001b[0m\u001b[0m\n",
      "\u001b[0;32m<ipython-input-8-335d39a86e0c>\u001b[0m in \u001b[0;36mbmi_category\u001b[0;34m(bmi)\u001b[0m\n\u001b[1;32m     13\u001b[0m \u001b[0;34m\u001b[0m\u001b[0m\n\u001b[1;32m     14\u001b[0m \u001b[0;32mdef\u001b[0m \u001b[0mbmi_category\u001b[0m\u001b[0;34m(\u001b[0m\u001b[0mbmi\u001b[0m\u001b[0;34m)\u001b[0m\u001b[0;34m:\u001b[0m\u001b[0;34m\u001b[0m\u001b[0;34m\u001b[0m\u001b[0m\n\u001b[0;32m---> 15\u001b[0;31m     \u001b[0;32mif\u001b[0m \u001b[0mbmi\u001b[0m \u001b[0;34m<\u001b[0m \u001b[0;36m18.5\u001b[0m\u001b[0;34m:\u001b[0m\u001b[0;34m\u001b[0m\u001b[0;34m\u001b[0m\u001b[0m\n\u001b[0m\u001b[1;32m     16\u001b[0m         \u001b[0;32mreturn\u001b[0m \u001b[0;34m'Underweight'\u001b[0m\u001b[0;34m\u001b[0m\u001b[0;34m\u001b[0m\u001b[0m\n\u001b[1;32m     17\u001b[0m     \u001b[0;32melif\u001b[0m \u001b[0mbmi\u001b[0m \u001b[0;34m>=\u001b[0m \u001b[0;36m18.5\u001b[0m \u001b[0;32mand\u001b[0m \u001b[0mbmi\u001b[0m \u001b[0;34m<\u001b[0m \u001b[0;36m25\u001b[0m\u001b[0;34m:\u001b[0m\u001b[0;34m\u001b[0m\u001b[0;34m\u001b[0m\u001b[0m\n",
      "\u001b[0;31mTypeError\u001b[0m: '<' not supported between instances of 'tuple' and 'float'"
     ]
    }
   ],
   "source": [
    "#write a function for each thing - not one big function\n",
    "#save output to objects, run whole formula - all within function\n",
    "#lastly, input information separate from formula \n",
    "\n",
    "def pounds_to_kg(pounds):\n",
    "    wg_km = 0.453592 * w\n",
    "    return wg_km\n",
    "   \n",
    "\n",
    "def inches_to_m(inches):\n",
    "    h_in_m = 0.0254 * h\n",
    "    return h_in_m\n",
    "\n",
    "def bmi_category(bmi):\n",
    "    if bmi < 18.5:\n",
    "        return 'Underweight'\n",
    "    elif bmi >= 18.5 and bmi < 25:\n",
    "        return 'Normal'\n",
    "    elif bmi >= 25 and bmi < 30:\n",
    "        return 'Overweight'\n",
    "    else:\n",
    "        return (bmi, 'Obese')\n",
    "    \n",
    "    w_in_kg = pounts_to_kg(pounds)\n",
    "    h_in_m = inches_to_m(inches)\n",
    "    bmi = w_in_kg/(h_in_m **2)\n",
    "    return(bmi)\n",
    "\n",
    "bmi = my_bmi(210, 72)\n",
    "print('My BMI is equal to: ' + str(bmi))\n",
    "print('I am' + bmi_category(bmi))\n",
    "#print((bmi, bmi_category(bmi)))\n",
    "    "
   ]
  },
  {
   "cell_type": "code",
   "execution_count": 4,
   "metadata": {},
   "outputs": [],
   "source": [
    "\n",
    "    "
   ]
  },
  {
   "cell_type": "code",
   "execution_count": 5,
   "metadata": {},
   "outputs": [],
   "source": [
    "\n",
    "    "
   ]
  },
  {
   "cell_type": "code",
   "execution_count": null,
   "metadata": {},
   "outputs": [],
   "source": []
  },
  {
   "cell_type": "markdown",
   "metadata": {},
   "source": [
    "# Object Oriented Programming\n",
    "\n",
    "So far, we did `procedural programming`.\n",
    "\n",
    "Procedural programing consists in coding what we want as a sequence of steps.\n",
    "\n",
    "This is great for smaller tasks, such as a small data analysis project.\n",
    "\n",
    "However, if we want to have more flexibility in our coding, we need to change the paradigm to allow for building powerful tools, customized for our purposes. \n",
    "\n",
    "Here is where the object-oriented programming comes handy. We can make our coding more reusable and tailored for our own problems.\n",
    "\n",
    "There are two main concepts we need to learn to start Object-Oriented coding:\n",
    "\n",
    "- Objects\n",
    "\n",
    "- Classes"
   ]
  },
  {
   "cell_type": "markdown",
   "metadata": {},
   "source": [
    "## Objects and Classes\n",
    "\n",
    "In Python, everything is an object!\n",
    "\n",
    "Objects are data structures. As the `string` or the `int`, they have states, and behaviors. For example, I can have an object called `student`. Students have their student number, their emails, and other atributes. They can also sign in for office hours.\n",
    "\n",
    "A class is a template for these objects. For example, a particular object could be:\n",
    "\n",
    "- Umberto\n",
    "- 1234\n",
    "- 3\n",
    "- Monday, 2:00 PM\n",
    "\n",
    "And the class is:\n",
    "\n",
    "- name\n",
    "- number\n",
    "- grade\n",
    "- office-hours-scheduled\n",
    "\n",
    "An example of `states` (attributes) in here are how many students I have in my class. An example of `behavior` (methods) is a function to add another student to the class, or to update the grade of a student.\n",
    "\n",
    "- attributes -> represented by variables\n",
    "\n",
    "- methods -> represented by functions"
   ]
  },
  {
   "cell_type": "markdown",
   "metadata": {},
   "source": [
    "## Create Classes\n",
    "\n",
    "Let's get started with classes. To create a class, we use the `class` statement:"
   ]
  },
  {
   "cell_type": "code",
   "execution_count": 22,
   "metadata": {},
   "outputs": [],
   "source": [
    "# My code here\n",
    "class Student:\n",
    "    #This is first method:\n",
    "    def set_name(self, new_name):\n",
    "        self.name = new_name #adds name attribute to student\n",
    "    #This method says hello to the student:\n",
    "    def set_grades(self, new_grades):\n",
    "        self.grades = new_grades\n",
    "    def say_hello(self):\n",
    "        print('Hello' + self.name + '\\n')\n",
    "    #Add one extra grade\n",
    "    def append_grade(self, g):\n",
    "        self.grades.append(g)\n",
    "        "
   ]
  },
  {
   "cell_type": "code",
   "execution_count": 23,
   "metadata": {},
   "outputs": [],
   "source": [
    "stu = Student()"
   ]
  },
  {
   "cell_type": "code",
   "execution_count": 17,
   "metadata": {},
   "outputs": [],
   "source": []
  },
  {
   "cell_type": "code",
   "execution_count": 24,
   "metadata": {},
   "outputs": [
    {
     "data": {
      "text/plain": [
       "__main__.Student"
      ]
     },
     "execution_count": 24,
     "metadata": {},
     "output_type": "execute_result"
    }
   ],
   "source": [
    "type(stu)\n",
    "\n"
   ]
  },
  {
   "cell_type": "code",
   "execution_count": 28,
   "metadata": {},
   "outputs": [],
   "source": [
    "stu.set_name('Mark')\n",
    "stu.set_grades([1,2,3])"
   ]
  },
  {
   "cell_type": "code",
   "execution_count": 29,
   "metadata": {},
   "outputs": [
    {
     "name": "stdout",
     "output_type": "stream",
     "text": [
      "HelloMark\n",
      "\n"
     ]
    }
   ],
   "source": [
    "stu.say_hello()"
   ]
  },
  {
   "cell_type": "code",
   "execution_count": 27,
   "metadata": {},
   "outputs": [],
   "source": [
    "print(stu.grades) #to see grades"
   ]
  },
  {
   "cell_type": "code",
   "execution_count": 30,
   "metadata": {},
   "outputs": [],
   "source": [
    "stu.append_grade(4)"
   ]
  },
  {
   "cell_type": "code",
   "execution_count": 31,
   "metadata": {},
   "outputs": [
    {
     "name": "stdout",
     "output_type": "stream",
     "text": [
      "[1, 2, 3, 4]\n"
     ]
    }
   ],
   "source": [
    "print(stu.grades)"
   ]
  },
  {
   "cell_type": "markdown",
   "metadata": {},
   "source": [
    "**Exercise**: Create a method that stores the student's grade."
   ]
  },
  {
   "cell_type": "code",
   "execution_count": 3,
   "metadata": {},
   "outputs": [],
   "source": [
    "## Your answers here!"
   ]
  },
  {
   "cell_type": "markdown",
   "metadata": {},
   "source": [
    "## Working with Classes\n",
    "\n",
    "Try `dir` with our new class. You will see that the `Student` class has its own attributes. Now, let us create a method that updates the student's grade."
   ]
  },
  {
   "cell_type": "code",
   "execution_count": 4,
   "metadata": {},
   "outputs": [],
   "source": [
    "# My code here\n"
   ]
  },
  {
   "cell_type": "markdown",
   "metadata": {},
   "source": [
    "**Exercise**: Create a function to update the student's grade."
   ]
  },
  {
   "cell_type": "code",
   "execution_count": 38,
   "metadata": {},
   "outputs": [],
   "source": [
    "## Your answers here!\n",
    "#has to change the student's last grade\n",
    "# My code here\n",
    "class Student:\n",
    "    #This is first method:\n",
    "    def set_name(self, new_name):\n",
    "        self.name = new_name #adds name attribute to student\n",
    "    #This method says hello to the student:\n",
    "    def set_grades(self, new_grades):\n",
    "        self.grades = new_grades\n",
    "    def say_hello(self):\n",
    "        print('Hello' + self.name + '\\n')\n",
    "    #Add one extra grade\n",
    "    def append_grade(self, g):\n",
    "        self.grades.append(g)\n",
    "    def update_grade(self, grade):\n",
    "        self.grades.pop()\n",
    "        self.append_grade(grade)\n"
   ]
  },
  {
   "cell_type": "code",
   "execution_count": 39,
   "metadata": {},
   "outputs": [],
   "source": [
    "stu = Student()\n",
    "stu.set_name('Mark')\n",
    "stu.set_grades([1,2,3,4])\n",
    "\n"
   ]
  },
  {
   "cell_type": "code",
   "execution_count": 40,
   "metadata": {},
   "outputs": [],
   "source": [
    "stu.update_grade(3)"
   ]
  },
  {
   "cell_type": "code",
   "execution_count": 41,
   "metadata": {},
   "outputs": [
    {
     "name": "stdout",
     "output_type": "stream",
     "text": [
      "[1, 2, 3, 3]\n"
     ]
    }
   ],
   "source": [
    "print(stu.grades)"
   ]
  },
  {
   "cell_type": "markdown",
   "metadata": {},
   "source": [
    "## Constructor\n",
    "\n",
    "Now, suppose that our class Student has the following:"
   ]
  },
  {
   "cell_type": "code",
   "execution_count": 45,
   "metadata": {
    "scrolled": true
   },
   "outputs": [],
   "source": [
    "# My code here\n",
    "class Student:\n",
    "    \n",
    "    def __init__(self, nam, num, gr, em): #this is a constructor\n",
    "        self.name = nam\n",
    "        self.number = num\n",
    "        self.grades = gr\n",
    "        self.email = em\n",
    "#never do the part below, always use constructor above        \n",
    "    def set_name(self, nam):\n",
    "        self.name = nam\n",
    "    def set_number(self, num):\n",
    "        self.number = num\n",
    "    def set_grades(self, gr):\n",
    "        self.grades = gr\n",
    "    def set_email(self, em):\n",
    "        self.email = em\n",
    "    def print_it(self):\n",
    "        print('Hi I am' + self.name + '\\n My number is:' + str(self.number) + '\\n My grades are:' + str(self.grades))\n",
    "        #use str if it is not already outputting string\n",
    "#constructor is a way to set values inside student class without having to use set_number,\n",
    "#set_grades etc."
   ]
  },
  {
   "cell_type": "code",
   "execution_count": 47,
   "metadata": {},
   "outputs": [],
   "source": [
    "stu = Student('Mark', 1234, [1,2,1], 'mark@emory.edu')"
   ]
  },
  {
   "cell_type": "code",
   "execution_count": 48,
   "metadata": {},
   "outputs": [
    {
     "name": "stdout",
     "output_type": "stream",
     "text": [
      "Hi I amMark\n",
      " My number is:1234\n",
      " My grades are:[1, 2, 1]\n"
     ]
    }
   ],
   "source": [
    "stu.print_it()"
   ]
  },
  {
   "cell_type": "markdown",
   "metadata": {},
   "source": [
    "And now suppose that we need to add a new student. Is it going to take all the commands I used previously?\n",
    "\n",
    "If we use constructors, the answer is **no**!\n",
    "\n",
    "For instance, we can create a constructor:"
   ]
  },
  {
   "cell_type": "code",
   "execution_count": 7,
   "metadata": {},
   "outputs": [],
   "source": [
    "# My code here"
   ]
  },
  {
   "cell_type": "markdown",
   "metadata": {},
   "source": [
    "## Best practices with Classes\n",
    "\n",
    "### Use CamelCase for classes\n",
    "\n",
    "For example, if my class denotes datasets, I can use:\n",
    "\n",
    "`DataSets`\n",
    "\n",
    "### Use lower_snakes for modules and attributes\n",
    "\n",
    "For example, if I need to compute the average grade in my `Student` class, use `average_grades` or something alike.\n",
    "\n",
    "### `self`\n",
    "\n",
    "The first attribute is always `self`. Keep it that way!\n",
    "\n",
    "### Document your class\n",
    "\n",
    "You can use docstring, in the same way you use to create functions."
   ]
  },
  {
   "cell_type": "code",
   "execution_count": 49,
   "metadata": {},
   "outputs": [
    {
     "ename": "SyntaxError",
     "evalue": "invalid syntax (<ipython-input-49-d92a8cc68b07>, line 11)",
     "output_type": "error",
     "traceback": [
      "\u001b[0;36m  File \u001b[0;32m\"<ipython-input-49-d92a8cc68b07>\"\u001b[0;36m, line \u001b[0;32m11\u001b[0m\n\u001b[0;31m    stu = Student('Mark', 1234, [1,2,1], 'mark@emory.edu')\u001b[0m\n\u001b[0m      ^\u001b[0m\n\u001b[0;31mSyntaxError\u001b[0m\u001b[0;31m:\u001b[0m invalid syntax\n"
     ]
    }
   ],
   "source": [
    "# My code here\n",
    "class Student:\n",
    "    \n",
    "    def __init__(self, nam, num, gr, em): #this is a constructor\n",
    "        self.name = nam\n",
    "        self.number = num\n",
    "        self.grades = gr\n",
    "        self.email = em\n",
    "    def print_it(self):\n",
    "        print('Hi I am' + self.name + '\\n My number is:' + str(self.number)\n",
    "stu = Student('Mark', 1234, [1,2,1], 'mark@emory.edu')"
   ]
  },
  {
   "cell_type": "code",
   "execution_count": null,
   "metadata": {},
   "outputs": [],
   "source": [
    "def set_name(self, new_name):\n",
    "        self.name = new_name"
   ]
  },
  {
   "cell_type": "markdown",
   "metadata": {},
   "source": [
    "**Exercise**: Create a class called Employee. It has to:\n",
    "\n",
    "1. Store:\n",
    "    - Name: first name of the person\n",
    "    - Age: age of the person\n",
    "    - Salary: salary\n",
    "    - Job: job description\n",
    "    \n",
    "2. Has the following methods:\n",
    "    - A constructor to build new elements\n",
    "    - A `birthday` method, to increase the age in one one year old.\n",
    "    - A `give_raise` method, to give the person x amount of raise.\n",
    "    - A `monthly_salary` method, that returns the monthly salary of the person, takes salary by year and divides by 12\n",
    "    \n",
    "Test your class by creating an employee of your choice. \n",
    "\n",
    "You will have to submit it as your daily assignment for today's class.    "
   ]
  },
  {
   "cell_type": "code",
   "execution_count": 58,
   "metadata": {},
   "outputs": [],
   "source": [
    "## Your answers here!, built print_it to check\n",
    "class Employee: \n",
    "    def __init__(self, nam, age, sal, job, amt_raise):\n",
    "        self.name = nam\n",
    "        self.age = age\n",
    "        self.salary = sal\n",
    "        self.job = job\n",
    "        self.birthday = self.age + 1\n",
    "        self.give_raise = self.salary * amt_raise\n",
    "        self.monthly_salary = self.salary / 12\n",
    "    def print_it(self):\n",
    "        print(self.name + '\\n is age' + str(self.age) + '\\n and will turn' + str(self.birthday) + \n",
    "        '\\n next year. She will get a' +str(self.give_raise) + '\\n raise with her current monthly salary of' + \n",
    "        str(self.monthly_salary))\n",
    "    "
   ]
  },
  {
   "cell_type": "code",
   "execution_count": 59,
   "metadata": {},
   "outputs": [],
   "source": [
    "empl = Employee('Colleen', 21, 100, 'waiter', 2)"
   ]
  },
  {
   "cell_type": "code",
   "execution_count": 60,
   "metadata": {},
   "outputs": [
    {
     "name": "stdout",
     "output_type": "stream",
     "text": [
      "Colleen\n",
      " is age21\n",
      " and will turn22\n",
      " next year. She will get a200\n",
      " raise with her current monthly salary of8.333333333333334\n"
     ]
    }
   ],
   "source": [
    "empl.print_it()"
   ]
  },
  {
   "cell_type": "markdown",
   "metadata": {},
   "source": [
    "**Great job!!!**"
   ]
  }
 ],
 "metadata": {
  "kernelspec": {
   "display_name": "Python 3",
   "language": "python",
   "name": "python3"
  },
  "language_info": {
   "codemirror_mode": {
    "name": "ipython",
    "version": 3
   },
   "file_extension": ".py",
   "mimetype": "text/x-python",
   "name": "python",
   "nbconvert_exporter": "python",
   "pygments_lexer": "ipython3",
   "version": "3.7.6"
  }
 },
 "nbformat": 4,
 "nbformat_minor": 4
}
