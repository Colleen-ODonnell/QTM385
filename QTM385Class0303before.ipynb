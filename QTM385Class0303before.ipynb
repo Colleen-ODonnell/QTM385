{
 "cells": [
  {
   "cell_type": "markdown",
   "metadata": {},
   "source": [
    "# QTM 385\n",
    "\n",
    "> Class 03/03\n",
    "\n",
    "> Classes and OOP"
   ]
  },
  {
   "cell_type": "markdown",
   "metadata": {},
   "source": [
    "# Object Oriented Programming (cont'd)\n",
    "\n",
    "So far, we learned:\n",
    "\n",
    "1. How to build classes\n",
    "2. How to change attributes and modules\n",
    "3. How to add constructors to our classes\n",
    "\n",
    "This class we are going to study why classes are important and useful.\n",
    "\n",
    "Let us start with this class here:\n",
    "\n",
    "```\n",
    "# My code here\n",
    "class Student:\n",
    "    # My constructor for the student class\n",
    "    def __init__(self, nam, num, gr, lg):\n",
    "        self.name = nam\n",
    "        self.number = num\n",
    "        self.grades = gr\n",
    "        self.login = lg\n",
    "```\n",
    "\n",
    "Today we are going to study and inheritance and polymorphisms."
   ]
  },
  {
   "cell_type": "markdown",
   "metadata": {},
   "source": [
    "## Getting started\n",
    "\n",
    "Create the class `Student`, and add the following:\n",
    "\n",
    "- Function to compute the average of the grades (without using numpy or pandas! use for!)"
   ]
  },
  {
   "cell_type": "code",
   "execution_count": 1,
   "metadata": {},
   "outputs": [],
   "source": [
    "#for test: read text, cypher it or decypher it, find key\n",
    "#today: encapsulation - the same class have attributes about the student and have modules (compute avg etc.)\n",
    "#inheritance: say we have a class called student, build a grad student class (special kind of student)\n",
    "#polymorphism: the way that the next class can inherent all of the operations, change way operations work\n",
    "## Your answers here"
   ]
  },
  {
   "cell_type": "code",
   "execution_count": 3,
   "metadata": {},
   "outputs": [],
   "source": [
    "class Student:\n",
    "    # My constructor for the student class\n",
    "    def __init__(self, nam, num, gr, lg):\n",
    "        self.name = nam\n",
    "        self.number = num\n",
    "        self.grades = gr\n",
    "        self.login = lg\n",
    "#build one module to compute the average of grades:\n",
    "    def avg_grades(self):\n",
    "        avg = 0\n",
    "        for i in self.grades:\n",
    "            avg += i\n",
    "        avg = avg/len(self.grades)\n",
    "        return avg"
   ]
  },
  {
   "cell_type": "code",
   "execution_count": 4,
   "metadata": {},
   "outputs": [
    {
     "name": "stdout",
     "output_type": "stream",
     "text": [
      "9.5\n"
     ]
    }
   ],
   "source": [
    "stu = Student('Ann', 1234, [10, 10, 10, 9, 8, 10], 'annlee')\n",
    "print(stu.avg_grades())"
   ]
  },
  {
   "cell_type": "code",
   "execution_count": null,
   "metadata": {},
   "outputs": [],
   "source": []
  },
  {
   "cell_type": "code",
   "execution_count": null,
   "metadata": {},
   "outputs": [],
   "source": [
    "\n"
   ]
  },
  {
   "cell_type": "markdown",
   "metadata": {},
   "source": [
    "## Class-Level Data\n",
    "\n",
    "Suppose that all students now have an email `@emory.edu`, and their emails is: their login + `@emory.edu`. We can add the `@emory.edu` to the class, as a class-level data."
   ]
  },
  {
   "cell_type": "code",
   "execution_count": 1,
   "metadata": {},
   "outputs": [],
   "source": [
    "# My code here\n",
    "class Student:\n",
    "    \n",
    "    EMAIL = '@emory.edu'\n",
    "    \n",
    "    # My constructor for the student class\n",
    "    def __init__(self, nam, num, gr, lg):\n",
    "        self.name = nam\n",
    "        self.number = num\n",
    "        self.grades = gr\n",
    "        self.login = lg\n",
    "#build one module to compute the average of grades:\n",
    "    def avg_grades(self):\n",
    "        avg = 0\n",
    "        for i in self.grades:\n",
    "            avg += i\n",
    "        avg = avg/len(self.grades)\n",
    "        return avg\n",
    "    \n",
    "    def email(self):\n",
    "        return self.login + self.EMAIL \n",
    "  "
   ]
  },
  {
   "cell_type": "code",
   "execution_count": 2,
   "metadata": {},
   "outputs": [],
   "source": [
    "stu = Student('Ann', 1234, [10, 10, 10, 9, 8, 10], 'annlee')"
   ]
  },
  {
   "cell_type": "code",
   "execution_count": 3,
   "metadata": {},
   "outputs": [
    {
     "name": "stdout",
     "output_type": "stream",
     "text": [
      "@emory.edu\n"
     ]
    }
   ],
   "source": [
    "print(stu.EMAIL)"
   ]
  },
  {
   "cell_type": "code",
   "execution_count": 10,
   "metadata": {},
   "outputs": [
    {
     "name": "stdout",
     "output_type": "stream",
     "text": [
      "annlee@emory.edu\n"
     ]
    }
   ],
   "source": [
    "print(stu.email())"
   ]
  },
  {
   "cell_type": "code",
   "execution_count": 11,
   "metadata": {},
   "outputs": [],
   "source": [
    "#if she wants to use personal email\n",
    "stu.EMAIL = '@gmail.com'"
   ]
  },
  {
   "cell_type": "code",
   "execution_count": 12,
   "metadata": {},
   "outputs": [
    {
     "name": "stdout",
     "output_type": "stream",
     "text": [
      "annlee@gmail.com\n"
     ]
    }
   ],
   "source": [
    "print(stu.email())"
   ]
  },
  {
   "cell_type": "code",
   "execution_count": 15,
   "metadata": {},
   "outputs": [
    {
     "name": "stdout",
     "output_type": "stream",
     "text": [
      "<bound method Student.email of <__main__.Student object at 0x107c13350>>\n"
     ]
    }
   ],
   "source": [
    "stu2 = Student('Mark', 4321, [8, 8, 0, 9, 8, 10], 'marklee')\n",
    "print(stu2.email) #will still be emory\n"
   ]
  },
  {
   "cell_type": "code",
   "execution_count": null,
   "metadata": {},
   "outputs": [],
   "source": []
  },
  {
   "cell_type": "code",
   "execution_count": null,
   "metadata": {},
   "outputs": [],
   "source": [
    "#to change to gmail\n",
    "Student.EMAIL = '@gmail.edu'"
   ]
  },
  {
   "cell_type": "code",
   "execution_count": null,
   "metadata": {},
   "outputs": [],
   "source": []
  },
  {
   "cell_type": "markdown",
   "metadata": {},
   "source": [
    "**Exercise**: Suppose you have the following class:\n",
    "\n",
    "```\n",
    "class Voter:\n",
    "    def __init__(self, name, age):\n",
    "        self.name = name\n",
    "        self.age = age\n",
    "```\n",
    "\n",
    "The voter cannot be younger than 17 years old. Create a minimum age class level data, that changes any younger age set by the user to 17."
   ]
  },
  {
   "cell_type": "code",
   "execution_count": 20,
   "metadata": {},
   "outputs": [],
   "source": [
    "## Your answers here! - works now\n",
    "\n",
    "#note: make this change within __init__\n",
    "#set min age before constructor\n",
    "\n",
    "class Voter:\n",
    "    \n",
    "    MIN_AGE = 17\n",
    "    \n",
    "    #Constructor\n",
    "    def __init__(self, name, age):\n",
    "        self.name = name\n",
    "        if age < self.MIN_AGE:\n",
    "            self.age = self.MIN_AGE\n",
    "            print('Error, the age was below' + str(self.MIN_AGE))\n",
    "        else: self.age = age\n",
    "        \n",
    "    # Print age\n",
    "    def print_age(self):\n",
    "        print(\"The voter \" + self.name + \" is  \" + str(self.age) + \"years old\")"
   ]
  },
  {
   "cell_type": "code",
   "execution_count": 21,
   "metadata": {},
   "outputs": [
    {
     "name": "stdout",
     "output_type": "stream",
     "text": [
      "Error, the age was below17\n"
     ]
    }
   ],
   "source": [
    "vt1 = Voter('John', 15)"
   ]
  },
  {
   "cell_type": "code",
   "execution_count": 22,
   "metadata": {},
   "outputs": [
    {
     "name": "stdout",
     "output_type": "stream",
     "text": [
      "The voter John is  17years old\n"
     ]
    }
   ],
   "source": [
    "vt1.print_age()"
   ]
  },
  {
   "cell_type": "markdown",
   "metadata": {},
   "source": [
    "## Inheritance\n",
    "\n",
    "Inheritance are situations when we build one class on the top of another. The idea is that the new class inherits the old class functionality, adding some extra functions.\n",
    "\n",
    "For instance, consider our student class:\n",
    "\n",
    "```\n",
    "# My code here\n",
    "class Student:\n",
    "    # My constructor for the student class\n",
    "    def __init__(self, nam, num, gr, lg):\n",
    "        self.name = nam\n",
    "        self.number = num\n",
    "        self.grades = gr\n",
    "        self.login = lg\n",
    "    def average_grade(self):\n",
    "        pass\n",
    "```\n",
    "\n",
    "Suppose that we want to add a GradStudent class on the top of it. The GradStudent class has other functionalities, such as the name of the advisor, and the field that the person is studying.\n",
    "\n",
    "Ideally, this class should have all atributes that the Student class, plus two:\n",
    "\n",
    "- Field\n",
    "- Advisor\n",
    "\n",
    "Let's try it?"
   ]
  },
  {
   "cell_type": "code",
   "execution_count": 19,
   "metadata": {},
   "outputs": [],
   "source": [
    "#Inheritance: \n",
    "# My code here\n",
    "class Student:\n",
    "    # My constructor for the student class\n",
    "    def __init__(self, nam, num, gr, lg):\n",
    "        self.name = nam\n",
    "        self.number = num\n",
    "        self.grades = gr\n",
    "        self.login = lg\n",
    "    def average_grade(self):\n",
    "        avg = 0\n",
    "        for i in self.grades:\n",
    "            avg += i\n",
    "        avg = avg/len(self.grades)\n",
    "        return avg\n",
    "#add a class called GradStudent\n",
    "\n",
    "class GradStudent(Student): #child class\n",
    "    pass"
   ]
  },
  {
   "cell_type": "code",
   "execution_count": 20,
   "metadata": {},
   "outputs": [],
   "source": [
    "stu1 = GradStudent('Rose', 5678, [10, 10, 9], 'rosej')\n"
   ]
  },
  {
   "cell_type": "code",
   "execution_count": 21,
   "metadata": {},
   "outputs": [
    {
     "data": {
      "text/plain": [
       "9.666666666666666"
      ]
     },
     "execution_count": 21,
     "metadata": {},
     "output_type": "execute_result"
    }
   ],
   "source": [
    "stu1.average_grade()\n",
    "#example of polymorphism, child class inherents operation from parent class (can run average_grade)"
   ]
  },
  {
   "cell_type": "code",
   "execution_count": null,
   "metadata": {},
   "outputs": [],
   "source": [
    "#a grad student is a student but a student isn't a grad student"
   ]
  },
  {
   "cell_type": "markdown",
   "metadata": {},
   "source": [
    "The new class (the Child) has all the attributes of the late class (the Parent).\n",
    "\n",
    "For instance:"
   ]
  },
  {
   "cell_type": "code",
   "execution_count": 5,
   "metadata": {},
   "outputs": [],
   "source": [
    "# My code here"
   ]
  },
  {
   "cell_type": "markdown",
   "metadata": {},
   "source": [
    "And the GradStudent is a Student. However, the Student **is not** a GradStudent:"
   ]
  },
  {
   "cell_type": "code",
   "execution_count": 22,
   "metadata": {},
   "outputs": [],
   "source": [
    "stu1 = GradStudent('Rose', 5678, [10, 10, 9], 'rosej')\n",
    "stu2 = Student('Mark', 4321, [8, 8, 0, 9], 'marklee')"
   ]
  },
  {
   "cell_type": "code",
   "execution_count": 24,
   "metadata": {},
   "outputs": [
    {
     "data": {
      "text/plain": [
       "True"
      ]
     },
     "execution_count": 24,
     "metadata": {},
     "output_type": "execute_result"
    }
   ],
   "source": [
    "isinstance(stu1, Student)\n",
    "#grad student is a student - True"
   ]
  },
  {
   "cell_type": "code",
   "execution_count": 25,
   "metadata": {},
   "outputs": [
    {
     "data": {
      "text/plain": [
       "True"
      ]
     },
     "execution_count": 25,
     "metadata": {},
     "output_type": "execute_result"
    }
   ],
   "source": [
    "isinstance(stu1, GradStudent)"
   ]
  },
  {
   "cell_type": "code",
   "execution_count": 26,
   "metadata": {},
   "outputs": [
    {
     "data": {
      "text/plain": [
       "True"
      ]
     },
     "execution_count": 26,
     "metadata": {},
     "output_type": "execute_result"
    }
   ],
   "source": [
    "isinstance(stu2, Student)"
   ]
  },
  {
   "cell_type": "code",
   "execution_count": 28,
   "metadata": {},
   "outputs": [
    {
     "data": {
      "text/plain": [
       "False"
      ]
     },
     "execution_count": 28,
     "metadata": {},
     "output_type": "execute_result"
    }
   ],
   "source": [
    "isinstance(stu2, GradStudent)"
   ]
  },
  {
   "cell_type": "code",
   "execution_count": null,
   "metadata": {},
   "outputs": [],
   "source": [
    "#inheritance means that when you create a child class from parent class,\n",
    "#everything from parent class is past to child but not visa versa"
   ]
  },
  {
   "cell_type": "markdown",
   "metadata": {},
   "source": [
    "**Exercise**: Create a SpecialVoter class, based on the Voter class."
   ]
  },
  {
   "cell_type": "code",
   "execution_count": 8,
   "metadata": {},
   "outputs": [],
   "source": [
    "## Your answers here!\n",
    "class Voter:\n",
    "    MIN_AGE = 17\n",
    "    \n",
    "    #Constructor\n",
    "    def __init__(self, name, age):\n",
    "        self.name = name\n",
    "        if age < self.MIN_AGE:\n",
    "            self.age = MIN_AGE\n",
    "            print('Error, the age was below' + str(MIN_AGE))\n",
    "        else: self.age = age\n",
    "        self.age = age\n",
    "class SpecialVoter(Voter):\n",
    "    pass"
   ]
  },
  {
   "cell_type": "code",
   "execution_count": null,
   "metadata": {},
   "outputs": [],
   "source": [
    "#we create child classes to add special modules to them"
   ]
  },
  {
   "cell_type": "markdown",
   "metadata": {},
   "source": [
    "### Customizing constructors\n",
    "\n",
    "The new class may have a different contructor, because it has more parameters.\n",
    "\n",
    "For instance, my GradStudent class needs the name of the advisor, and the field of study.\n",
    "\n",
    "Let's see how we add these to the child class:"
   ]
  },
  {
   "cell_type": "code",
   "execution_count": 36,
   "metadata": {
    "scrolled": true
   },
   "outputs": [],
   "source": [
    "##How to create constructor for grad student class----have everything __init__ from before plus whatever is new\n",
    "##need next two lines of code  as well!\n",
    "\n",
    "# My code here\n",
    "## Your answers here!\n",
    "class Student:\n",
    "    # My constructor for the student class\n",
    "    def __init__(self, nam, num, gr, lg):\n",
    "        self.name = nam\n",
    "        self.number = num\n",
    "        self.grades = gr\n",
    "        self.login = lg\n",
    "    def average_grade(self):\n",
    "        avg = 0\n",
    "        for i in self.grades:\n",
    "            avg += i\n",
    "        avg = avg/len(self.grades)\n",
    "        return avg\n",
    "#add a class called GradStudent\n",
    "\n",
    "class GradStudent(Student): #child class\n",
    "    #my constructor for grad student class:\n",
    "    def __init__(self, nam, num, gr, lg, field): #first have everything in __init__ from before plus new\n",
    "        Student.__init__(self, nam, num, gr, lg) #everything old in __init__\n",
    "        self.field = field #new constructor\n",
    "    \n",
    "    def average_grade(self):  #how you change method in child class \n",
    "        avg = Student.average_grade(self) #first have to reiterate what was already saved\n",
    "        avg = 4 * (avg / 10) #adjustment \n",
    "        return avg\n",
    "        \n"
   ]
  },
  {
   "cell_type": "code",
   "execution_count": 35,
   "metadata": {},
   "outputs": [
    {
     "name": "stdout",
     "output_type": "stream",
     "text": [
      "<bound method GradStudent.average_grade of <__main__.GradStudent object at 0x107c3a290>>\n"
     ]
    }
   ],
   "source": [
    "stu = GradStudent('Rose', 5678, [10, 10, 9], 'rosej', 'Evolutionary Biology')\n",
    "print(stu.average_grade)"
   ]
  },
  {
   "cell_type": "code",
   "execution_count": null,
   "metadata": {},
   "outputs": [],
   "source": []
  },
  {
   "cell_type": "code",
   "execution_count": 31,
   "metadata": {},
   "outputs": [],
   "source": [
    "stu = GradStudent('Rose', 5678, [10, 10, 9], 'rosej', 'Evolutionary Biology')"
   ]
  },
  {
   "cell_type": "code",
   "execution_count": 33,
   "metadata": {},
   "outputs": [
    {
     "data": {
      "text/plain": [
       "9.666666666666666"
      ]
     },
     "execution_count": 33,
     "metadata": {},
     "output_type": "execute_result"
    }
   ],
   "source": [
    "stu.average_grade()"
   ]
  },
  {
   "cell_type": "code",
   "execution_count": null,
   "metadata": {},
   "outputs": [],
   "source": []
  },
  {
   "cell_type": "markdown",
   "metadata": {},
   "source": [
    "We can also edit the methods of the original class. And this is an example of polymorphism!"
   ]
  },
  {
   "cell_type": "code",
   "execution_count": 9,
   "metadata": {},
   "outputs": [],
   "source": [
    "# My code here"
   ]
  },
  {
   "cell_type": "markdown",
   "metadata": {},
   "source": [
    "## Operator Comparison\n",
    "\n",
    "If you have two objects with the same data, they are probably not equal to each other! That's is weird, but it is easy to fix."
   ]
  },
  {
   "cell_type": "code",
   "execution_count": 40,
   "metadata": {},
   "outputs": [],
   "source": [
    "# My code here\n",
    "stu = Student('Ann', 1234, [10, 10, 10, 9, 8], 'annlee')\n",
    "stu2 = Student('Mark', 4321, [8, 8, 7], 'marklee')\n",
    "stu3 = Student('Mark', 4321, [8, 8, 7], 'marklee')"
   ]
  },
  {
   "cell_type": "code",
   "execution_count": null,
   "metadata": {},
   "outputs": [],
   "source": []
  },
  {
   "cell_type": "code",
   "execution_count": 41,
   "metadata": {},
   "outputs": [
    {
     "data": {
      "text/plain": [
       "False"
      ]
     },
     "execution_count": 41,
     "metadata": {},
     "output_type": "execute_result"
    }
   ],
   "source": [
    "stu == stu2"
   ]
  },
  {
   "cell_type": "code",
   "execution_count": 42,
   "metadata": {},
   "outputs": [
    {
     "data": {
      "text/plain": [
       "False"
      ]
     },
     "execution_count": 42,
     "metadata": {},
     "output_type": "execute_result"
    }
   ],
   "source": [
    "stu2 == stu3 #says false b/c they are stored in different places"
   ]
  },
  {
   "cell_type": "code",
   "execution_count": 43,
   "metadata": {},
   "outputs": [
    {
     "name": "stdout",
     "output_type": "stream",
     "text": [
      "<__main__.Student object at 0x107c3d550>\n"
     ]
    }
   ],
   "source": [
    "print(stu2) #prints address in memory"
   ]
  },
  {
   "cell_type": "code",
   "execution_count": 44,
   "metadata": {},
   "outputs": [
    {
     "name": "stdout",
     "output_type": "stream",
     "text": [
      "<__main__.Student object at 0x107c372d0>\n"
     ]
    }
   ],
   "source": [
    "print(stu3) #different address in memory"
   ]
  },
  {
   "cell_type": "code",
   "execution_count": 45,
   "metadata": {},
   "outputs": [],
   "source": [
    "class Student:\n",
    "    # My constructor for the student class\n",
    "    def __init__(self, nam, num, gr, lg):\n",
    "        self.name = nam\n",
    "        self.number = num\n",
    "        self.grades = gr\n",
    "        self.login = lg\n",
    "    def average_grade(self):\n",
    "        avg = 0\n",
    "        for i in self.grades:\n",
    "            avg += i\n",
    "        avg = avg/len(self.grades)\n",
    "        return avg\n",
    "    \n",
    "    def __eq__(self, other):\n",
    "        return self.login == other.login #same login = same person\n",
    "    \n"
   ]
  },
  {
   "cell_type": "code",
   "execution_count": 46,
   "metadata": {},
   "outputs": [
    {
     "data": {
      "text/plain": [
       "True"
      ]
     },
     "execution_count": 46,
     "metadata": {},
     "output_type": "execute_result"
    }
   ],
   "source": [
    "stu2 = Student('Mark', 4321, [8, 8, 7], 'marklee')\n",
    "stu3 = Student('Mark', 4321, [8, 8, 7], 'marklee')\n",
    "stu2 == stu3 #now they are the same people"
   ]
  },
  {
   "cell_type": "markdown",
   "metadata": {},
   "source": [
    "We can define each of these classes here:\n",
    "\n",
    "| Operator | Method   |\n",
    "|----------|----------|\n",
    "| `==`     | `__eq__` |\n",
    "| `!=`     | `__ne__` |\n",
    "| `>=`     | `__ge__` |\n",
    "| `<=`     | `__le__` |\n",
    "| `>`      | `__gt__` |\n",
    "| `<`      | `__lt__` |"
   ]
  },
  {
   "cell_type": "markdown",
   "metadata": {},
   "source": [
    "**Exercise**: For the Voter class, create one equality and one inequality operator."
   ]
  },
  {
   "cell_type": "code",
   "execution_count": 47,
   "metadata": {},
   "outputs": [],
   "source": [
    "## Your answers here!\n",
    "class Voter:\n",
    "    MIN_AGE = 17\n",
    "    \n",
    "    #Constructor\n",
    "    def __init__(self, name, age):\n",
    "        self.name = name\n",
    "        if age < self.MIN_AGE:\n",
    "            self.age = MIN_AGE\n",
    "            print('Error, the age was below' + str(MIN_AGE))\n",
    "        else: self.age = age\n",
    "        self.age = age\n",
    "    \n",
    "    def __eq__(self, other):\n",
    "        return self.name == other.name and self.age == other.age\n",
    "    \n",
    "    def __ne__(self, other): #can have same age but diff names\n",
    "        return self.name != other.name and self.age != other.age\n",
    "    #means not equal if the two names are different and the two ages are different?\n",
    "    \n",
    "        \n",
    "        "
   ]
  },
  {
   "cell_type": "code",
   "execution_count": 48,
   "metadata": {},
   "outputs": [
    {
     "name": "stdout",
     "output_type": "stream",
     "text": [
      "False\n",
      "True\n",
      "False\n"
     ]
    }
   ],
   "source": [
    "vt1 = Voter('Anna', 18)\n",
    "vt2 = Voter('John', 38)\n",
    "vt3 = Voter('John', 38)\n",
    "print(vt1 == vt2)\n",
    "print(vt2 == vt3)\n",
    "print(vt2 != vt3)"
   ]
  },
  {
   "cell_type": "markdown",
   "metadata": {},
   "source": [
    "## String Representation"
   ]
  },
  {
   "cell_type": "markdown",
   "metadata": {},
   "source": [
    "We can also add the methods for representation and printing:"
   ]
  },
  {
   "cell_type": "code",
   "execution_count": 2,
   "metadata": {},
   "outputs": [],
   "source": [
    "# My code here\n",
    "#vt1 #what python prints when you have custom class\n",
    "\n",
    "class Student:\n",
    "    # My constructor for the student class\n",
    "    def __init__(self, nam, num, gr, lg):\n",
    "        self.name = nam\n",
    "        self.number = num\n",
    "        self.grades = gr\n",
    "        self.login = lg\n",
    "    def average_grade(self):\n",
    "        avg = 0\n",
    "        for i in self.grades:\n",
    "            avg += i\n",
    "        avg = avg/len(self.grades)\n",
    "        return avg\n",
    "    \n",
    "    def __eq__(self, other):\n",
    "        return self.login == other.login #same login = same person\n",
    "    \n",
    "    def __str__(self):\n",
    "        st_info = \"\"\"\n",
    "        Student: \n",
    "            name: {name1}\n",
    "            login: {login1}\n",
    "            avg_grade: {avggr}\n",
    "            \"\"\".format(name1 = self.name, login1 = self.login, avggr = str(Student.average_grade(self))) #name and login are vars\n",
    "        return st_info\n",
    "    \n",
    "    def __repr__(self): #supposed to give you nicer output when just run stu3\n",
    "        return \"Student: {stname}, login: {lg}\".format(stname = self.name, lg = self.login)\n",
    "\n",
    "stu3 = Student('Mark', 4321, [8, 8, 0, 9, 10], 'marklee')"
   ]
  },
  {
   "cell_type": "code",
   "execution_count": 3,
   "metadata": {},
   "outputs": [
    {
     "name": "stdout",
     "output_type": "stream",
     "text": [
      "\n",
      "        Student: \n",
      "            name: Mark\n",
      "            login: marklee\n",
      "            avg_grade: 7.0\n",
      "            \n"
     ]
    }
   ],
   "source": [
    "print(stu3)"
   ]
  },
  {
   "cell_type": "code",
   "execution_count": 4,
   "metadata": {},
   "outputs": [
    {
     "data": {
      "text/plain": [
       "Student: Mark, login: marklee"
      ]
     },
     "execution_count": 4,
     "metadata": {},
     "output_type": "execute_result"
    }
   ],
   "source": [
    "stu3"
   ]
  },
  {
   "cell_type": "code",
   "execution_count": null,
   "metadata": {},
   "outputs": [],
   "source": []
  },
  {
   "cell_type": "code",
   "execution_count": null,
   "metadata": {},
   "outputs": [],
   "source": []
  },
  {
   "cell_type": "markdown",
   "metadata": {},
   "source": [
    "We can also add the representation:"
   ]
  },
  {
   "cell_type": "code",
   "execution_count": 13,
   "metadata": {},
   "outputs": [],
   "source": [
    "# My code here"
   ]
  },
  {
   "cell_type": "markdown",
   "metadata": {},
   "source": [
    "**Exercise**: For the Voter class, add str and a repr."
   ]
  },
  {
   "cell_type": "code",
   "execution_count": 14,
   "metadata": {},
   "outputs": [],
   "source": [
    "## Your answers here!"
   ]
  },
  {
   "cell_type": "markdown",
   "metadata": {},
   "source": [
    "**Great job!!!**"
   ]
  }
 ],
 "metadata": {
  "kernelspec": {
   "display_name": "Python 3",
   "language": "python",
   "name": "python3"
  },
  "language_info": {
   "codemirror_mode": {
    "name": "ipython",
    "version": 3
   },
   "file_extension": ".py",
   "mimetype": "text/x-python",
   "name": "python",
   "nbconvert_exporter": "python",
   "pygments_lexer": "ipython3",
   "version": "3.7.6"
  }
 },
 "nbformat": 4,
 "nbformat_minor": 4
}
