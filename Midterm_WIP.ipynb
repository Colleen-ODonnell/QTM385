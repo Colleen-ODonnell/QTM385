{
 "cells": [
  {
   "cell_type": "code",
   "execution_count": 17,
   "metadata": {},
   "outputs": [
    {
     "name": "stdout",
     "output_type": "stream",
     "text": [
      "Type the encryption key: 123\n"
     ]
    }
   ],
   "source": [
    "def set_key():\n",
    "    cmd = input('Type the encryption key: ')\n",
    "    global my_key\n",
    "    if int(cmd) > 99 and int(cmd) < 1000:\n",
    "        my_key = int(cmd)\n",
    "    else:\n",
    "        print('Error. It should be a number between 100 and 999.')\n",
    "        cmd = input('Type the encryption key: ')\n",
    "set_key()"
   ]
  },
  {
   "cell_type": "code",
   "execution_count": 18,
   "metadata": {},
   "outputs": [
    {
     "name": "stdout",
     "output_type": "stream",
     "text": [
      "The encryption key is: 123\n"
     ]
    }
   ],
   "source": [
    "def show_key():\n",
    "    print(f'The encryption key is: {my_key}')  \n",
    "show_key()"
   ]
  },
  {
   "cell_type": "code",
   "execution_count": 19,
   "metadata": {},
   "outputs": [
    {
     "name": "stdout",
     "output_type": "stream",
     "text": [
      "iwd muwdsj tw zw zuh mdqhrxerfhz lswmh zw wdr qselh eaj gdi rplh gheam wspyh wps grhej orhalu orphm jphz lwfh qpbbe plh lrhex nezhr pxqwmmpgsh gdrthr httm\n"
     ]
    }
   ],
   "source": [
    "def show_encrypted():\n",
    "    try:\n",
    "        f = open('encrypted.txt', 'r')\n",
    "        print(f.read())\n",
    "    except FileNotFoundError:\n",
    "        print('Error. encrypted.txt is not available.')\n",
    "show_encrypted()"
   ]
  },
  {
   "cell_type": "code",
   "execution_count": 20,
   "metadata": {},
   "outputs": [
    {
     "name": "stdout",
     "output_type": "stream",
     "text": [
      "you should go to the supermarket\n",
      "close to our place\n",
      "and buy\n",
      "rice\n",
      "beans\n",
      "...\n",
      "\n",
      "pizza\n",
      "ice cream\n",
      "water\n",
      "impossible burger\n",
      "eggs\n"
     ]
    }
   ],
   "source": [
    "def show_message():\n",
    "    try:\n",
    "        f = open('message.txt', 'r')\n",
    "        global text\n",
    "        text = f.read().splitlines()\n",
    "        if len(text) > 10:\n",
    "            print(*(text[0:5] + ['...\\n'] + text[-5:]), sep = '\\n')\n",
    "        else:\n",
    "            print(*text, sep = '\\n')\n",
    "    except FileNotFoundError:\n",
    "        print('Error. message.txt is not available.')\n",
    "    text = list(\" \".join(text))\n",
    "show_message()"
   ]
  },
  {
   "cell_type": "code",
   "execution_count": 16,
   "metadata": {},
   "outputs": [
    {
     "name": "stdout",
     "output_type": "stream",
     "text": [
      "you should go to the supermarket\n",
      "close to our place\n",
      "and buy\n",
      "rice\n",
      "beans\n",
      "olive oil\n",
      "bread\n",
      "french fries\n",
      "diet coke\n",
      "pizza\n",
      "ice cream\n",
      "water\n",
      "impossible burger\n",
      "eggs\n"
     ]
    }
   ],
   "source": [
    "#skip\n",
    "def show_message():\n",
    "    try:\n",
    "        f = open('message.txt', 'r')\n",
    "        global text\n",
    "        text = f.read()\n",
    "        print(text)\n",
    "        text = list(text)\n",
    "    except FileNotFoundError:\n",
    "        print('Error. message.txt is not available.')\n",
    "show_message()"
   ]
  },
  {
   "cell_type": "code",
   "execution_count": 21,
   "metadata": {},
   "outputs": [],
   "source": [
    "import string\n",
    "import random as rd\n",
    "rd.seed(123) #maybe comment this out later\n",
    "\n",
    "def show_map():\n",
    "    global letters\n",
    "    letters = list(string.ascii_lowercase[:26])\n",
    "    global shuffleletters\n",
    "    shuffleletters = letters[:]\n",
    "    rd.shuffle(shuffleletters)\n",
    "    global res\n",
    "    res = {}\n",
    "    for key in letters:\n",
    "        for value in  shuffleletters:\n",
    "            res[key] = value\n",
    "            shuffleletters.remove(value)\n",
    "            break \n",
    "    print('The encryption map is:')\n",
    "    for key in res:\n",
    "        print(key, ' =>', res[key], end = '\\t')\n",
    "    print('\\nAnd the decryption map is:')\n",
    "    for key in res:\n",
    "        print(res[key], ' =>', key, end = '\\t')\n",
    "    \n",
    "\n",
    "    "
   ]
  },
  {
   "cell_type": "code",
   "execution_count": 22,
   "metadata": {},
   "outputs": [
    {
     "name": "stdout",
     "output_type": "stream",
     "text": [
      "The encryption map is:\n",
      "a  => e\tb  => g\tc  => l\td  => j\te  => h\tf  => o\tg  => t\th  => u\ti  => p\tj  => v\tk  => f\tl  => s\tm  => x\tn  => a\to  => w\tp  => q\tq  => k\tr  => r\ts  => m\tt  => z\tu  => d\tv  => y\tw  => n\tx  => c\ty  => i\tz  => b\t\n",
      "And the decryption map is:\n",
      "e  => a\tg  => b\tl  => c\tj  => d\th  => e\to  => f\tt  => g\tu  => h\tp  => i\tv  => j\tf  => k\ts  => l\tx  => m\ta  => n\tw  => o\tq  => p\tk  => q\tr  => r\tm  => s\tz  => t\td  => u\ty  => v\tn  => w\tc  => x\ti  => y\tb  => z\t"
     ]
    }
   ],
   "source": [
    "show_map()"
   ]
  },
  {
   "cell_type": "code",
   "execution_count": 23,
   "metadata": {},
   "outputs": [],
   "source": [
    "def encrypt():\n",
    "    global new_l\n",
    "    new_l = []\n",
    "    for i in text:\n",
    "        if i in res: #see if element in list belongs to dictionary\n",
    "            new_l.append(res[i]) \n",
    "        else:\n",
    "            new_l.append(i)\n",
    "    encrypted_data = ''.join(new_l)\n",
    "    try:\n",
    "        my_file = open('encrypted.txt', 'w')\n",
    "        my_file.write(str(encrypted_data))\n",
    "        my_file.close()\n",
    "        print('Successful encryption.')\n",
    "    except IOError:\n",
    "        print('Error. Encryption Failed.')\n",
    "    \n",
    "    "
   ]
  },
  {
   "cell_type": "code",
   "execution_count": 24,
   "metadata": {},
   "outputs": [
    {
     "name": "stdout",
     "output_type": "stream",
     "text": [
      "Successful encryption.\n"
     ]
    }
   ],
   "source": [
    "encrypt()"
   ]
  },
  {
   "cell_type": "code",
   "execution_count": null,
   "metadata": {},
   "outputs": [],
   "source": []
  },
  {
   "cell_type": "code",
   "execution_count": 25,
   "metadata": {},
   "outputs": [
    {
     "name": "stdout",
     "output_type": "stream",
     "text": [
      "Successfully decrypted. \n",
      "Your message is: \n",
      "you should go to the supermarket close to our place and buy rice beans olive oil bread french fries diet coke pizza ice cream water impossible burger eggs\n"
     ]
    }
   ],
   "source": [
    "rd.seed(123)\n",
    "def decrypt():\n",
    "    letters = list(string.ascii_lowercase[:26])\n",
    "    shuffleletters = letters[:]\n",
    "    rd.shuffle(shuffleletters)\n",
    "    decrypt_res = {}\n",
    "    for key in letters:\n",
    "        for value in  shuffleletters:\n",
    "            decrypt_res[value] = key\n",
    "            shuffleletters.remove(value)\n",
    "            break \n",
    "    global l2\n",
    "    l2 = []\n",
    "    global f2\n",
    "    f2 = open('encrypted.txt', 'r')\n",
    "    f2 = list(f2.read())\n",
    "    for i in f2:\n",
    "        if i in decrypt_res:\n",
    "            l2.append(decrypt_res[i])\n",
    "        else:\n",
    "            l2.append(i)\n",
    "    decrypted_data = ''.join(l2)\n",
    "    #print(decrypted_data)\n",
    "    try:\n",
    "        my_file2 = open('decrypted.txt', 'w')\n",
    "        my_file2.write(str(decrypted_data))\n",
    "        my_file2.close()\n",
    "        print('Successfully decrypted. \\nYour message is: ')\n",
    "        f3 = open('decrypted.txt', 'r')\n",
    "        f3 = f3.read()\n",
    "        print(f3)\n",
    "    except FileNotFoundError:\n",
    "        print('Error. The decryption failed.')\n",
    "decrypt()\n",
    "\n",
    "#put dictionary in map function!"
   ]
  },
  {
   "cell_type": "code",
   "execution_count": 75,
   "metadata": {},
   "outputs": [
    {
     "name": "stdout",
     "output_type": "stream",
     "text": [
      "Enter your command here:set-key\n",
      "Type the encryption key: 123\n",
      "Enter your command here:show-key\n",
      "The encryption key is: 123\n",
      "Enter your command here:show-encrypted\n",
      "iwd muwdsj tw zw zuh mdqhrxerfhz\n",
      "lswmh zw wdr qselh\n",
      "eaj gdi\n",
      "rplh\n",
      "gheam\n",
      "wspyh wps\n",
      "grhej\n",
      "orhalu orphm\n",
      "jphz lwfh\n",
      "qpbbe\n",
      "plh lrhex\n",
      "nezhr\n",
      "pxqwmmpgsh gdrthr\n",
      "httm\n",
      "Enter your command here:show-message\n",
      "you should go to the supermarket\n",
      "close to our place\n",
      "and buy\n",
      "rice\n",
      "beans\n",
      "olive oil\n",
      "bread\n",
      "french fries\n",
      "diet coke\n",
      "pizza\n",
      "ice cream\n",
      "water\n",
      "impossible burger\n",
      "eggs\n",
      "Enter your command here:show-map\n",
      "The encryption map is:\n",
      "a  => i\tb  => f\tc  => n\td  => u\te  => v\tf  => m\tg  => t\th  => x\ti  => q\tj  => l\tk  => r\tl  => h\tm  => p\tn  => g\to  => w\tp  => j\tq  => y\tr  => s\ts  => e\tt  => z\tu  => b\tv  => d\tw  => o\tx  => k\ty  => a\tz  => c\t\n",
      "And the decryption map is:\n",
      "i  => a\tf  => b\tn  => c\tu  => d\tv  => e\tm  => f\tt  => g\tx  => h\tq  => i\tl  => j\tr  => k\th  => l\tp  => m\tg  => n\tw  => o\tj  => p\ty  => q\ts  => r\te  => s\tz  => t\tb  => u\td  => v\to  => w\tk  => x\ta  => y\tc  => z\tEnter your command here:encrypt\n",
      "Successful encryption.\n",
      "Enter your command here:bye\n",
      "Bye have a nice day!\n",
      "Enter your command here:hello\n",
      "Error Invalid Command\n"
     ]
    },
    {
     "ename": "KeyboardInterrupt",
     "evalue": "Interrupted by user",
     "output_type": "error",
     "traceback": [
      "\u001b[0;31m---------------------------------------------------------------------------\u001b[0m",
      "\u001b[0;31mKeyboardInterrupt\u001b[0m                         Traceback (most recent call last)",
      "\u001b[0;32m<ipython-input-75-58c8375dc634>\u001b[0m in \u001b[0;36m<module>\u001b[0;34m\u001b[0m\n\u001b[1;32m      1\u001b[0m \u001b[0;31m#think about this?\u001b[0m\u001b[0;34m\u001b[0m\u001b[0;34m\u001b[0m\u001b[0;34m\u001b[0m\u001b[0m\n\u001b[1;32m      2\u001b[0m \u001b[0;32mwhile\u001b[0m \u001b[0;32mTrue\u001b[0m\u001b[0;34m:\u001b[0m \u001b[0;31m#infinite loop\u001b[0m\u001b[0;34m\u001b[0m\u001b[0;34m\u001b[0m\u001b[0m\n\u001b[0;32m----> 3\u001b[0;31m     \u001b[0mcmd\u001b[0m \u001b[0;34m=\u001b[0m \u001b[0minput\u001b[0m\u001b[0;34m(\u001b[0m\u001b[0;34m'Enter your command here:'\u001b[0m\u001b[0;34m)\u001b[0m\u001b[0;34m\u001b[0m\u001b[0;34m\u001b[0m\u001b[0m\n\u001b[0m\u001b[1;32m      4\u001b[0m     \u001b[0;32mif\u001b[0m \u001b[0mcmd\u001b[0m \u001b[0;34m==\u001b[0m \u001b[0;34m'set-key'\u001b[0m\u001b[0;34m:\u001b[0m\u001b[0;34m\u001b[0m\u001b[0;34m\u001b[0m\u001b[0m\n\u001b[1;32m      5\u001b[0m         \u001b[0mset_key\u001b[0m\u001b[0;34m(\u001b[0m\u001b[0;34m)\u001b[0m\u001b[0;34m\u001b[0m\u001b[0;34m\u001b[0m\u001b[0m\n",
      "\u001b[0;32m~/opt/anaconda3/lib/python3.7/site-packages/ipykernel/kernelbase.py\u001b[0m in \u001b[0;36mraw_input\u001b[0;34m(self, prompt)\u001b[0m\n\u001b[1;32m    861\u001b[0m             \u001b[0mself\u001b[0m\u001b[0;34m.\u001b[0m\u001b[0m_parent_ident\u001b[0m\u001b[0;34m,\u001b[0m\u001b[0;34m\u001b[0m\u001b[0;34m\u001b[0m\u001b[0m\n\u001b[1;32m    862\u001b[0m             \u001b[0mself\u001b[0m\u001b[0;34m.\u001b[0m\u001b[0m_parent_header\u001b[0m\u001b[0;34m,\u001b[0m\u001b[0;34m\u001b[0m\u001b[0;34m\u001b[0m\u001b[0m\n\u001b[0;32m--> 863\u001b[0;31m             \u001b[0mpassword\u001b[0m\u001b[0;34m=\u001b[0m\u001b[0;32mFalse\u001b[0m\u001b[0;34m,\u001b[0m\u001b[0;34m\u001b[0m\u001b[0;34m\u001b[0m\u001b[0m\n\u001b[0m\u001b[1;32m    864\u001b[0m         )\n\u001b[1;32m    865\u001b[0m \u001b[0;34m\u001b[0m\u001b[0m\n",
      "\u001b[0;32m~/opt/anaconda3/lib/python3.7/site-packages/ipykernel/kernelbase.py\u001b[0m in \u001b[0;36m_input_request\u001b[0;34m(self, prompt, ident, parent, password)\u001b[0m\n\u001b[1;32m    902\u001b[0m             \u001b[0;32mexcept\u001b[0m \u001b[0mKeyboardInterrupt\u001b[0m\u001b[0;34m:\u001b[0m\u001b[0;34m\u001b[0m\u001b[0;34m\u001b[0m\u001b[0m\n\u001b[1;32m    903\u001b[0m                 \u001b[0;31m# re-raise KeyboardInterrupt, to truncate traceback\u001b[0m\u001b[0;34m\u001b[0m\u001b[0;34m\u001b[0m\u001b[0;34m\u001b[0m\u001b[0m\n\u001b[0;32m--> 904\u001b[0;31m                 \u001b[0;32mraise\u001b[0m \u001b[0mKeyboardInterrupt\u001b[0m\u001b[0;34m(\u001b[0m\u001b[0;34m\"Interrupted by user\"\u001b[0m\u001b[0;34m)\u001b[0m \u001b[0;32mfrom\u001b[0m \u001b[0;32mNone\u001b[0m\u001b[0;34m\u001b[0m\u001b[0;34m\u001b[0m\u001b[0m\n\u001b[0m\u001b[1;32m    905\u001b[0m             \u001b[0;32mexcept\u001b[0m \u001b[0mException\u001b[0m \u001b[0;32mas\u001b[0m \u001b[0me\u001b[0m\u001b[0;34m:\u001b[0m\u001b[0;34m\u001b[0m\u001b[0;34m\u001b[0m\u001b[0m\n\u001b[1;32m    906\u001b[0m                 \u001b[0mself\u001b[0m\u001b[0;34m.\u001b[0m\u001b[0mlog\u001b[0m\u001b[0;34m.\u001b[0m\u001b[0mwarning\u001b[0m\u001b[0;34m(\u001b[0m\u001b[0;34m\"Invalid Message:\"\u001b[0m\u001b[0;34m,\u001b[0m \u001b[0mexc_info\u001b[0m\u001b[0;34m=\u001b[0m\u001b[0;32mTrue\u001b[0m\u001b[0;34m)\u001b[0m\u001b[0;34m\u001b[0m\u001b[0;34m\u001b[0m\u001b[0m\n",
      "\u001b[0;31mKeyboardInterrupt\u001b[0m: Interrupted by user"
     ]
    }
   ],
   "source": [
    "#command prompt\n",
    "while True: \n",
    "    cmd = input('Enter your command here:')\n",
    "    if cmd == 'set-key':\n",
    "        set_key()\n",
    "    elif cmd == 'show-key':\n",
    "        show_key()\n",
    "    elif cmd == 'show-encrypted':\n",
    "        show_encrypted()\n",
    "    elif cmd == 'show-message':\n",
    "        show_message()\n",
    "    elif cmd == 'show-map':\n",
    "        show_map()\n",
    "    elif cmd == 'encrypt':\n",
    "        encrypt()\n",
    "    elif cmd == 'decrypt':\n",
    "        decrypt()\n",
    "    elif cmd == 'bye':\n",
    "        print('Bye have a nice day!')\n",
    "    else:\n",
    "        print('Error Invalid Command')\n",
    "    "
   ]
  },
  {
   "cell_type": "code",
   "execution_count": null,
   "metadata": {},
   "outputs": [],
   "source": []
  }
 ],
 "metadata": {
  "kernelspec": {
   "display_name": "Python 3",
   "language": "python",
   "name": "python3"
  },
  "language_info": {
   "codemirror_mode": {
    "name": "ipython",
    "version": 3
   },
   "file_extension": ".py",
   "mimetype": "text/x-python",
   "name": "python",
   "nbconvert_exporter": "python",
   "pygments_lexer": "ipython3",
   "version": "3.7.6"
  }
 },
 "nbformat": 4,
 "nbformat_minor": 4
}
