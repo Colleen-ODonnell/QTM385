{
 "cells": [
  {
   "cell_type": "code",
   "execution_count": 2,
   "metadata": {},
   "outputs": [
    {
     "name": "stdout",
     "output_type": "stream",
     "text": [
      "True\n"
     ]
    }
   ],
   "source": [
    "#set-key\n",
    "#'Type the encryption key:' \n",
    "#you type in numbers, should eb number between 100-999"
   ]
  },
  {
   "cell_type": "code",
   "execution_count": 116,
   "metadata": {},
   "outputs": [],
   "source": [
    "def set_key():\n",
    "    cmd = input('Type the encryption key: ')\n",
    "    global my_key\n",
    "    if int(cmd) > 99 and int(cmd) < 1000:\n",
    "        my_key = int(cmd)\n",
    "    else:\n",
    "        print('Error. It should be a number between 100 and 999.')\n",
    "        cmd = input('Type the encryption key: ')\n",
    "        \n",
    "      "
   ]
  },
  {
   "cell_type": "code",
   "execution_count": 117,
   "metadata": {},
   "outputs": [
    {
     "name": "stdout",
     "output_type": "stream",
     "text": [
      "Type the encryption key: 123\n"
     ]
    }
   ],
   "source": [
    "set_key()"
   ]
  },
  {
   "cell_type": "code",
   "execution_count": 118,
   "metadata": {},
   "outputs": [
    {
     "name": "stdout",
     "output_type": "stream",
     "text": [
      "The encryption key is: 123\n"
     ]
    }
   ],
   "source": [
    "def show_key():\n",
    "    print(f'The encryption key is: {my_key}')  \n",
    "show_key()"
   ]
  },
  {
   "cell_type": "code",
   "execution_count": 119,
   "metadata": {},
   "outputs": [
    {
     "name": "stdout",
     "output_type": "stream",
     "text": [
      "you should go to the supermarket\n",
      "close to our place\n",
      "and buy\n",
      "rice\n",
      "beans\n",
      "olive oil\n",
      "bread\n",
      "french fries\n",
      "diet coke\n",
      "pizza\n",
      "ice cream\n",
      "water\n",
      "impossible burger\n",
      "eggs\n"
     ]
    }
   ],
   "source": [
    "#show-message\n",
    "#function to read the files and save contents as a list\n",
    "#needs to have the dots still!\n",
    "\n",
    "def show_message():\n",
    "    f = open('message.txt', 'r')\n",
    "    global text\n",
    "    text = f.read()\n",
    "    print(text)\n",
    "    text = list(text)\n",
    "show_message()\n"
   ]
  },
  {
   "cell_type": "code",
   "execution_count": 120,
   "metadata": {},
   "outputs": [
    {
     "name": "stdout",
     "output_type": "stream",
     "text": [
      "['a', 'b', 'c', 'd', 'e', 'f', 'g', 'h', 'i', 'j', 'k', 'l', 'm', 'n', 'o', 'p', 'q', 'r', 's', 't', 'u', 'v', 'w', 'x', 'y', 'z']\n",
      "['e', 'g', 'l', 'j', 'h', 'o', 't', 'u', 'p', 'v', 'f', 's', 'x', 'a', 'w', 'q', 'k', 'r', 'm', 'z', 'd', 'y', 'n', 'c', 'i', 'b']\n"
     ]
    }
   ],
   "source": [
    "#show - encrypted \n",
    "import string\n",
    "letters = list(string.ascii_lowercase[:26])\n",
    "\n",
    "import random as rd\n",
    "rd.seed(123)\n",
    "\n",
    "shuffleletters = letters[:]\n",
    "rd.shuffle(shuffleletters)\n",
    "print(letters)\n",
    "print(shuffleletters)"
   ]
  },
  {
   "cell_type": "code",
   "execution_count": 121,
   "metadata": {},
   "outputs": [],
   "source": [
    "res = {}\n",
    "for key in letters:\n",
    "    for value in  shuffleletters:\n",
    "        res[key] = value\n",
    "        shuffleletters.remove(value)\n",
    "        break "
   ]
  },
  {
   "cell_type": "code",
   "execution_count": 122,
   "metadata": {},
   "outputs": [
    {
     "data": {
      "text/plain": [
       "{'a': 'e',\n",
       " 'b': 'g',\n",
       " 'c': 'l',\n",
       " 'd': 'j',\n",
       " 'e': 'h',\n",
       " 'f': 'o',\n",
       " 'g': 't',\n",
       " 'h': 'u',\n",
       " 'i': 'p',\n",
       " 'j': 'v',\n",
       " 'k': 'f',\n",
       " 'l': 's',\n",
       " 'm': 'x',\n",
       " 'n': 'a',\n",
       " 'o': 'w',\n",
       " 'p': 'q',\n",
       " 'q': 'k',\n",
       " 'r': 'r',\n",
       " 's': 'm',\n",
       " 't': 'z',\n",
       " 'u': 'd',\n",
       " 'v': 'y',\n",
       " 'w': 'n',\n",
       " 'x': 'c',\n",
       " 'y': 'i',\n",
       " 'z': 'b'}"
      ]
     },
     "execution_count": 122,
     "metadata": {},
     "output_type": "execute_result"
    }
   ],
   "source": [
    "res"
   ]
  },
  {
   "cell_type": "code",
   "execution_count": 123,
   "metadata": {},
   "outputs": [],
   "source": [
    "new_l = []\n",
    "\n",
    "for i in text:\n",
    "    if i in res: #see if element in list belongs to dictionary\n",
    "        new_l.append(res[i]) #d[i] b/c are pulling out for each i\n",
    "    else:\n",
    "        new_l.append(i)"
   ]
  },
  {
   "cell_type": "code",
   "execution_count": 124,
   "metadata": {},
   "outputs": [
    {
     "data": {
      "text/plain": [
       "['i',\n",
       " 'w',\n",
       " 'd',\n",
       " ' ',\n",
       " 'm',\n",
       " 'u',\n",
       " 'w',\n",
       " 'd',\n",
       " 's',\n",
       " 'j',\n",
       " ' ',\n",
       " 't',\n",
       " 'w',\n",
       " ' ',\n",
       " 'z',\n",
       " 'w',\n",
       " ' ',\n",
       " 'z',\n",
       " 'u',\n",
       " 'h',\n",
       " ' ',\n",
       " 'm',\n",
       " 'd',\n",
       " 'q',\n",
       " 'h',\n",
       " 'r',\n",
       " 'x',\n",
       " 'e',\n",
       " 'r',\n",
       " 'f',\n",
       " 'h',\n",
       " 'z',\n",
       " '\\n',\n",
       " 'l',\n",
       " 's',\n",
       " 'w',\n",
       " 'm',\n",
       " 'h',\n",
       " ' ',\n",
       " 'z',\n",
       " 'w',\n",
       " ' ',\n",
       " 'w',\n",
       " 'd',\n",
       " 'r',\n",
       " ' ',\n",
       " 'q',\n",
       " 's',\n",
       " 'e',\n",
       " 'l',\n",
       " 'h',\n",
       " '\\n',\n",
       " 'e',\n",
       " 'a',\n",
       " 'j',\n",
       " ' ',\n",
       " 'g',\n",
       " 'd',\n",
       " 'i',\n",
       " '\\n',\n",
       " 'r',\n",
       " 'p',\n",
       " 'l',\n",
       " 'h',\n",
       " '\\n',\n",
       " 'g',\n",
       " 'h',\n",
       " 'e',\n",
       " 'a',\n",
       " 'm',\n",
       " '\\n',\n",
       " 'w',\n",
       " 's',\n",
       " 'p',\n",
       " 'y',\n",
       " 'h',\n",
       " ' ',\n",
       " 'w',\n",
       " 'p',\n",
       " 's',\n",
       " '\\n',\n",
       " 'g',\n",
       " 'r',\n",
       " 'h',\n",
       " 'e',\n",
       " 'j',\n",
       " '\\n',\n",
       " 'o',\n",
       " 'r',\n",
       " 'h',\n",
       " 'a',\n",
       " 'l',\n",
       " 'u',\n",
       " ' ',\n",
       " 'o',\n",
       " 'r',\n",
       " 'p',\n",
       " 'h',\n",
       " 'm',\n",
       " '\\n',\n",
       " 'j',\n",
       " 'p',\n",
       " 'h',\n",
       " 'z',\n",
       " ' ',\n",
       " 'l',\n",
       " 'w',\n",
       " 'f',\n",
       " 'h',\n",
       " '\\n',\n",
       " 'q',\n",
       " 'p',\n",
       " 'b',\n",
       " 'b',\n",
       " 'e',\n",
       " '\\n',\n",
       " 'p',\n",
       " 'l',\n",
       " 'h',\n",
       " ' ',\n",
       " 'l',\n",
       " 'r',\n",
       " 'h',\n",
       " 'e',\n",
       " 'x',\n",
       " '\\n',\n",
       " 'n',\n",
       " 'e',\n",
       " 'z',\n",
       " 'h',\n",
       " 'r',\n",
       " '\\n',\n",
       " 'p',\n",
       " 'x',\n",
       " 'q',\n",
       " 'w',\n",
       " 'm',\n",
       " 'm',\n",
       " 'p',\n",
       " 'g',\n",
       " 's',\n",
       " 'h',\n",
       " ' ',\n",
       " 'g',\n",
       " 'd',\n",
       " 'r',\n",
       " 't',\n",
       " 'h',\n",
       " 'r',\n",
       " '\\n',\n",
       " 'h',\n",
       " 't',\n",
       " 't',\n",
       " 'm']"
      ]
     },
     "execution_count": 124,
     "metadata": {},
     "output_type": "execute_result"
    }
   ],
   "source": [
    "new_l"
   ]
  },
  {
   "cell_type": "code",
   "execution_count": 125,
   "metadata": {},
   "outputs": [
    {
     "name": "stdout",
     "output_type": "stream",
     "text": [
      "iwd muwdsj tw zw zuh mdqhrxerfhz\n",
      "lswmh zw wdr qselh\n",
      "eaj gdi\n",
      "rplh\n",
      "gheam\n",
      "wspyh wps\n",
      "grhej\n",
      "orhalu orphm\n",
      "jphz lwfh\n",
      "qpbbe\n",
      "plh lrhex\n",
      "nezhr\n",
      "pxqwmmpgsh gdrthr\n",
      "httm\n"
     ]
    }
   ],
   "source": [
    "encrypted_data = ''.join(new_l)\n",
    "print(encrypted_data)"
   ]
  },
  {
   "cell_type": "code",
   "execution_count": 55,
   "metadata": {},
   "outputs": [
    {
     "name": "stdout",
     "output_type": "stream",
     "text": [
      "a  => e\tb  => g\tc  => l\td  => j\te  => h\tf  => o\tg  => t\th  => u\ti  => p\tj  => v\tk  => f\tl  => s\tm  => x\tn  => a\to  => w\tp  => q\tq  => k\tr  => r\ts  => m\tt  => z\tu  => d\tv  => y\tw  => n\tx  => c\ty  => i\tz  => b\t"
     ]
    }
   ],
   "source": [
    "#show-map\n",
    "for key in res:\n",
    "    print(key, ' =>', res[key], end = '\\t')"
   ]
  },
  {
   "cell_type": "code",
   "execution_count": 56,
   "metadata": {},
   "outputs": [
    {
     "name": "stdout",
     "output_type": "stream",
     "text": [
      "e  => a\tg  => b\tl  => c\tj  => d\th  => e\to  => f\tt  => g\tu  => h\tp  => i\tv  => j\tf  => k\ts  => l\tx  => m\ta  => n\tw  => o\tq  => p\tk  => q\tr  => r\tm  => s\tz  => t\td  => u\ty  => v\tn  => w\tc  => x\ti  => y\tb  => z\t"
     ]
    }
   ],
   "source": [
    "#decryption map \n",
    "for key in res:\n",
    "    print(res[key], ' =>', key, end = '\\t')"
   ]
  },
  {
   "cell_type": "code",
   "execution_count": 68,
   "metadata": {},
   "outputs": [],
   "source": [
    "#encrypt\n",
    "#write the file\n",
    "my_file = open('encryption.txt', 'w')\n",
    "my_file.write(str(encrypted_data))\n",
    "my_file.close()"
   ]
  },
  {
   "cell_type": "code",
   "execution_count": 58,
   "metadata": {},
   "outputs": [],
   "source": [
    "#my_file = open('encryption.txt', 'r')\n",
    "#text_e = my_file.read()"
   ]
  },
  {
   "cell_type": "code",
   "execution_count": 75,
   "metadata": {},
   "outputs": [
    {
     "name": "stdout",
     "output_type": "stream",
     "text": [
      "Successful encryption.\n"
     ]
    }
   ],
   "source": [
    "#encrypt\n",
    "try:\n",
    "    my_file = open('encryption.txt', 'w')\n",
    "    my_file.write(str(encrypted_data))\n",
    "    my_file.close()\n",
    "    print('Successful encryption.')\n",
    "except IOError:\n",
    "    print('Error. Encryption Failed.')\n",
    "\n",
    "#why would encryption fail?\n",
    "\n",
    "#needs to read message.txt? -order"
   ]
  },
  {
   "cell_type": "code",
   "execution_count": null,
   "metadata": {},
   "outputs": [],
   "source": [
    "#decryption\n",
    "try:\n",
    "    my_file = open('encryption.txt', 'r')\n",
    "    my_file.write(str(encrypted_data))\n",
    "    my_file.close()\n",
    "    print('Successful encryption.')\n",
    "except IOError:\n",
    "    print('Error. Encryption Failed.')\n"
   ]
  },
  {
   "cell_type": "code",
   "execution_count": 60,
   "metadata": {},
   "outputs": [
    {
     "ename": "ValueError",
     "evalue": "I/O operation on closed file.",
     "output_type": "error",
     "traceback": [
      "\u001b[0;31m---------------------------------------------------------------------------\u001b[0m",
      "\u001b[0;31mValueError\u001b[0m                                Traceback (most recent call last)",
      "\u001b[0;32m<ipython-input-60-ffb6a2ef0c24>\u001b[0m in \u001b[0;36m<module>\u001b[0;34m\u001b[0m\n\u001b[0;32m----> 1\u001b[0;31m \u001b[0mencrypt\u001b[0m\u001b[0;34m(\u001b[0m\u001b[0;34m)\u001b[0m\u001b[0;34m\u001b[0m\u001b[0;34m\u001b[0m\u001b[0m\n\u001b[0m",
      "\u001b[0;32m<ipython-input-59-02bee7e24d17>\u001b[0m in \u001b[0;36mencrypt\u001b[0;34m()\u001b[0m\n\u001b[1;32m      2\u001b[0m     \u001b[0;32mtry\u001b[0m\u001b[0;34m:\u001b[0m\u001b[0;34m\u001b[0m\u001b[0;34m\u001b[0m\u001b[0m\n\u001b[1;32m      3\u001b[0m         \u001b[0mopen\u001b[0m\u001b[0;34m(\u001b[0m\u001b[0;34m'encryption.txt'\u001b[0m\u001b[0;34m,\u001b[0m \u001b[0;34m'r'\u001b[0m\u001b[0;34m)\u001b[0m\u001b[0;34m\u001b[0m\u001b[0;34m\u001b[0m\u001b[0m\n\u001b[0;32m----> 4\u001b[0;31m         \u001b[0mmy_file\u001b[0m\u001b[0;34m.\u001b[0m\u001b[0mwrite\u001b[0m\u001b[0;34m(\u001b[0m\u001b[0mstr\u001b[0m\u001b[0;34m(\u001b[0m\u001b[0mencrypted_data\u001b[0m\u001b[0;34m)\u001b[0m\u001b[0;34m)\u001b[0m\u001b[0;34m\u001b[0m\u001b[0;34m\u001b[0m\u001b[0m\n\u001b[0m\u001b[1;32m      5\u001b[0m         \u001b[0mmy_file\u001b[0m\u001b[0;34m.\u001b[0m\u001b[0mclose\u001b[0m\u001b[0;34m(\u001b[0m\u001b[0;34m)\u001b[0m\u001b[0;34m\u001b[0m\u001b[0;34m\u001b[0m\u001b[0m\n\u001b[1;32m      6\u001b[0m         \u001b[0mprint\u001b[0m\u001b[0;34m(\u001b[0m\u001b[0;34m'Successful encryption.'\u001b[0m\u001b[0;34m)\u001b[0m\u001b[0;34m\u001b[0m\u001b[0;34m\u001b[0m\u001b[0m\n",
      "\u001b[0;31mValueError\u001b[0m: I/O operation on closed file."
     ]
    }
   ],
   "source": []
  },
  {
   "cell_type": "code",
   "execution_count": 61,
   "metadata": {},
   "outputs": [
    {
     "name": "stdout",
     "output_type": "stream",
     "text": [
      "Successful encryption.\n"
     ]
    }
   ],
   "source": [
    "try:\n",
    "    open('encryption.txt', 'r')\n",
    "    print('Successful encryption.')\n",
    "except IOError:\n",
    "    print('Error. Encryption Failed.')"
   ]
  },
  {
   "cell_type": "code",
   "execution_count": 64,
   "metadata": {},
   "outputs": [
    {
     "ename": "ValueError",
     "evalue": "I/O operation on closed file.",
     "output_type": "error",
     "traceback": [
      "\u001b[0;31m---------------------------------------------------------------------------\u001b[0m",
      "\u001b[0;31mValueError\u001b[0m                                Traceback (most recent call last)",
      "\u001b[0;32m<ipython-input-64-b72cfdb99263>\u001b[0m in \u001b[0;36m<module>\u001b[0;34m\u001b[0m\n\u001b[1;32m      1\u001b[0m \u001b[0mopen\u001b[0m\u001b[0;34m(\u001b[0m\u001b[0;34m'encryption.txt'\u001b[0m\u001b[0;34m,\u001b[0m \u001b[0;34m'r'\u001b[0m\u001b[0;34m)\u001b[0m\u001b[0;34m\u001b[0m\u001b[0;34m\u001b[0m\u001b[0m\n\u001b[0;32m----> 2\u001b[0;31m \u001b[0mmy_file\u001b[0m\u001b[0;34m.\u001b[0m\u001b[0mwrite\u001b[0m\u001b[0;34m(\u001b[0m\u001b[0mstr\u001b[0m\u001b[0;34m(\u001b[0m\u001b[0mencrypted_data\u001b[0m\u001b[0;34m)\u001b[0m\u001b[0;34m)\u001b[0m\u001b[0;34m\u001b[0m\u001b[0;34m\u001b[0m\u001b[0m\n\u001b[0m\u001b[1;32m      3\u001b[0m \u001b[0;31m#my_file.close()\u001b[0m\u001b[0;34m\u001b[0m\u001b[0;34m\u001b[0m\u001b[0;34m\u001b[0m\u001b[0m\n",
      "\u001b[0;31mValueError\u001b[0m: I/O operation on closed file."
     ]
    }
   ],
   "source": [
    "open('encryption.txt', 'r')\n",
    "my_file.write(str(encrypted_data))\n",
    "#my_file.close()"
   ]
  },
  {
   "cell_type": "code",
   "execution_count": null,
   "metadata": {},
   "outputs": [],
   "source": []
  }
 ],
 "metadata": {
  "kernelspec": {
   "display_name": "Python 3",
   "language": "python",
   "name": "python3"
  },
  "language_info": {
   "codemirror_mode": {
    "name": "ipython",
    "version": 3
   },
   "file_extension": ".py",
   "mimetype": "text/x-python",
   "name": "python",
   "nbconvert_exporter": "python",
   "pygments_lexer": "ipython3",
   "version": "3.7.6"
  }
 },
 "nbformat": 4,
 "nbformat_minor": 4
}
